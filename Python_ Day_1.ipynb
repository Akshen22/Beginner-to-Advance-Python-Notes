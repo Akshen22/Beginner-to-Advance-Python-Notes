{
 "cells": [
  {
   "cell_type": "code",
   "execution_count": 1,
   "id": "85f47a36",
   "metadata": {},
   "outputs": [],
   "source": [
    "# 1) Basic:"
   ]
  },
  {
   "cell_type": "code",
   "execution_count": 2,
   "id": "f950e028",
   "metadata": {},
   "outputs": [
    {
     "name": "stdout",
     "output_type": "stream",
     "text": [
      "21 Akshen\n",
      "21\n",
      "Akshen\n",
      "21\n",
      "Akshen\n",
      "21 Akshen\n",
      "21\n",
      "21 Akshen,This is my bio\n"
     ]
    }
   ],
   "source": [
    "age = 21 # key = age, value = 21\n",
    "age\n",
    "\n",
    "name = 'Akshen' #key = name, value = Akshen\n",
    "name\n",
    "\n",
    "print(age, name) # 1) together\n",
    "\n",
    "print(age, name, sep='\\n') # 2) next line\n",
    "\n",
    "print(f\"{age}\\n{name}\") # 3) next line using \\n\n",
    "\n",
    "print(age, name, end='\\n') # 4) end & next line\n",
    "print(age)\n",
    "\n",
    "print(age, name, end=',') # 5) sep and continues 2nd line\n",
    "print(\"This is my bio\")"
   ]
  },
  {
   "cell_type": "code",
   "execution_count": 3,
   "id": "447611fc",
   "metadata": {},
   "outputs": [
    {
     "name": "stdout",
     "output_type": "stream",
     "text": [
      "My name is Akshen , aged 21\n"
     ]
    }
   ],
   "source": [
    "print(\"My name is\", name,\",\", \"aged\", age) #entire in 1 line"
   ]
  },
  {
   "cell_type": "code",
   "execution_count": 4,
   "id": "d00291e7",
   "metadata": {},
   "outputs": [
    {
     "name": "stdout",
     "output_type": "stream",
     "text": [
      "\n",
      "\n"
     ]
    }
   ],
   "source": [
    "print() #leaves space as much as we want\n",
    "print()"
   ]
  },
  {
   "cell_type": "code",
   "execution_count": 5,
   "id": "2d1b0c5d",
   "metadata": {},
   "outputs": [
    {
     "name": "stdout",
     "output_type": "stream",
     "text": [
      "Hello World\n",
      "Hello \n",
      "World\n",
      "Hello World, How are you?\n",
      "Hello\n",
      "World\n"
     ]
    }
   ],
   "source": [
    "print(\"Hello World\") # 1) 1 line together\n",
    "print(\"Hello \\nWorld\") # 2) new line\n",
    "print(\"Hello World\", end=\",\") \n",
    "print(\" How are you?\") # 3) ends and immediately joins 2nd line\n",
    "print(\"Hello\", \"World\", sep = \"\\n\") # 4) new line"
   ]
  },
  {
   "cell_type": "code",
   "execution_count": 6,
   "id": "5b134f5e",
   "metadata": {},
   "outputs": [
    {
     "name": "stdout",
     "output_type": "stream",
     "text": [
      "Hello\tWorld\n"
     ]
    }
   ],
   "source": [
    "print(\"Hello\", \"World\", sep = \"\\t\") # tab space"
   ]
  },
  {
   "cell_type": "code",
   "execution_count": null,
   "id": "6833185c",
   "metadata": {},
   "outputs": [],
   "source": []
  },
  {
   "cell_type": "code",
   "execution_count": 7,
   "id": "4365c8ba",
   "metadata": {},
   "outputs": [],
   "source": [
    "# 2) input:"
   ]
  },
  {
   "cell_type": "code",
   "execution_count": 8,
   "id": "0b0fbddf",
   "metadata": {},
   "outputs": [
    {
     "name": "stdout",
     "output_type": "stream",
     "text": [
      "2,4,6\n",
      "2\n",
      "4\n",
      "6\n",
      "2\t4\t6\n",
      "\n",
      "2 4 6,2 4 6\n",
      "2 4 6\t4\n"
     ]
    }
   ],
   "source": [
    "# a) we give:\n",
    "\n",
    "m1= 2\n",
    "m2= 4\n",
    "\n",
    "print(m1, m2, m1+m2, sep =\",\") # 1) ,\n",
    "print(m1, m2, m1+m2, sep =\"\\n\") # 2) new line\n",
    "print(m1, m2, m1+m2, sep =\"\\t\") # 3) tab space\n",
    "\n",
    "print() # 4) space\n",
    "\n",
    "print(m1, m2, m1+m2, end =\",\") # 5) in end ,and continous the next line\n",
    "print(m1, m2, m1+m2, end =\"\\n\") \n",
    "\n",
    "print(m1, m2, m1+m2, end =\"\\t\") # 6) new line, as it's \\n later due to '\\t' space and the next line continous \n",
    "print(m2)"
   ]
  },
  {
   "cell_type": "code",
   "execution_count": 9,
   "id": "4a77df9f",
   "metadata": {},
   "outputs": [
    {
     "name": "stdout",
     "output_type": "stream",
     "text": [
      "Akshen\n",
      "Enter your name: Akshen\n"
     ]
    },
    {
     "data": {
      "text/plain": [
       "'Akshen'"
      ]
     },
     "execution_count": 9,
     "metadata": {},
     "output_type": "execute_result"
    }
   ],
   "source": [
    "# b) user gives:\n",
    "\n",
    "input() # 1) empty input\n",
    "\n",
    "input(\"Enter your name: \") # 2) gives the input with your name, with a title"
   ]
  },
  {
   "cell_type": "code",
   "execution_count": 10,
   "id": "4a179448",
   "metadata": {},
   "outputs": [
    {
     "name": "stdout",
     "output_type": "stream",
     "text": [
      "Your age is: 24\n",
      "24\n"
     ]
    },
    {
     "data": {
      "text/plain": [
       "'24'"
      ]
     },
     "execution_count": 10,
     "metadata": {},
     "output_type": "execute_result"
    }
   ],
   "source": [
    "age= input(\"Your age is: \")\n",
    "print(age)\n",
    "\n",
    "id(age) # variables are named memory location\n",
    "\n",
    "age"
   ]
  },
  {
   "cell_type": "code",
   "execution_count": null,
   "id": "b248f03b",
   "metadata": {},
   "outputs": [],
   "source": []
  },
  {
   "cell_type": "code",
   "execution_count": 11,
   "id": "fe80cefe",
   "metadata": {},
   "outputs": [],
   "source": [
    "# 3) Rules:"
   ]
  },
  {
   "cell_type": "code",
   "execution_count": 12,
   "id": "bd65fe6f",
   "metadata": {},
   "outputs": [
    {
     "ename": "SyntaxError",
     "evalue": "invalid decimal literal (3991477717.py, line 1)",
     "output_type": "error",
     "traceback": [
      "\u001b[1;36m  Cell \u001b[1;32mIn[12], line 1\u001b[1;36m\u001b[0m\n\u001b[1;33m    9A = 20 # 1) cannot start with a number\u001b[0m\n\u001b[1;37m    ^\u001b[0m\n\u001b[1;31mSyntaxError\u001b[0m\u001b[1;31m:\u001b[0m invalid decimal literal\n"
     ]
    }
   ],
   "source": [
    "9A = 20 # 1) cannot start with a number"
   ]
  },
  {
   "cell_type": "code",
   "execution_count": 13,
   "id": "7a0a1686",
   "metadata": {},
   "outputs": [
    {
     "data": {
      "text/plain": [
       "20"
      ]
     },
     "execution_count": 13,
     "metadata": {},
     "output_type": "execute_result"
    }
   ],
   "source": [
    "A9 = 20 # it wors as it starts with alphabet\n",
    "A9"
   ]
  },
  {
   "cell_type": "code",
   "execution_count": 14,
   "id": "a7867ec0",
   "metadata": {},
   "outputs": [
    {
     "ename": "SyntaxError",
     "evalue": "invalid syntax (488146227.py, line 1)",
     "output_type": "error",
     "traceback": [
      "\u001b[1;36m  Cell \u001b[1;32mIn[14], line 1\u001b[1;36m\u001b[0m\n\u001b[1;33m    A@ = 20\u001b[0m\n\u001b[1;37m       ^\u001b[0m\n\u001b[1;31mSyntaxError\u001b[0m\u001b[1;31m:\u001b[0m invalid syntax\n"
     ]
    }
   ],
   "source": [
    "A@ = 20 \n",
    "A@\n",
    "# 2) cannot have any special character other than _, as seen below!"
   ]
  },
  {
   "cell_type": "code",
   "execution_count": 15,
   "id": "f65a1689",
   "metadata": {},
   "outputs": [
    {
     "data": {
      "text/plain": [
       "20"
      ]
     },
     "execution_count": 15,
     "metadata": {},
     "output_type": "execute_result"
    }
   ],
   "source": [
    "A_ = 20 # it works as it's: A_\n",
    "A_"
   ]
  },
  {
   "cell_type": "code",
   "execution_count": 16,
   "id": "0d5715ed",
   "metadata": {},
   "outputs": [
    {
     "ename": "NameError",
     "evalue": "name 'Y' is not defined",
     "output_type": "error",
     "traceback": [
      "\u001b[1;31m---------------------------------------------------------------------------\u001b[0m",
      "\u001b[1;31mNameError\u001b[0m                                 Traceback (most recent call last)",
      "Cell \u001b[1;32mIn[16], line 2\u001b[0m\n\u001b[0;32m      1\u001b[0m y \u001b[38;5;241m=\u001b[39m \u001b[38;5;241m200\u001b[39m\n\u001b[1;32m----> 2\u001b[0m Y\n",
      "\u001b[1;31mNameError\u001b[0m: name 'Y' is not defined"
     ]
    }
   ],
   "source": [
    "y = 200\n",
    "Y \n",
    "# 3) case sensitive, if the variable/key is y, write y; Y won't work!"
   ]
  },
  {
   "cell_type": "code",
   "execution_count": 17,
   "id": "aa3c40e8",
   "metadata": {},
   "outputs": [
    {
     "name": "stdout",
     "output_type": "stream",
     "text": [
      "20 200\n"
     ]
    }
   ],
   "source": [
    "Y = 200\n",
    "y = 20\n",
    "print(y, Y) # proof"
   ]
  },
  {
   "cell_type": "code",
   "execution_count": 18,
   "id": "3edff0ba",
   "metadata": {},
   "outputs": [
    {
     "ename": "SyntaxError",
     "evalue": "invalid syntax (3257994565.py, line 1)",
     "output_type": "error",
     "traceback": [
      "\u001b[1;36m  Cell \u001b[1;32mIn[18], line 1\u001b[1;36m\u001b[0m\n\u001b[1;33m    first num = 20 # 4) no space between the variable name/key\u001b[0m\n\u001b[1;37m          ^\u001b[0m\n\u001b[1;31mSyntaxError\u001b[0m\u001b[1;31m:\u001b[0m invalid syntax\n"
     ]
    }
   ],
   "source": [
    "first num = 20 # 4) no space between the variable name/key"
   ]
  },
  {
   "cell_type": "code",
   "execution_count": 19,
   "id": "acd6c3c0",
   "metadata": {},
   "outputs": [
    {
     "data": {
      "text/plain": [
       "20"
      ]
     },
     "execution_count": 19,
     "metadata": {},
     "output_type": "execute_result"
    }
   ],
   "source": [
    "first_num = 20\n",
    "first_num"
   ]
  },
  {
   "cell_type": "code",
   "execution_count": 20,
   "id": "0b08dd1c",
   "metadata": {
    "scrolled": true
   },
   "outputs": [
    {
     "ename": "NameError",
     "evalue": "name 'hello' is not defined",
     "output_type": "error",
     "traceback": [
      "\u001b[1;31m---------------------------------------------------------------------------\u001b[0m",
      "\u001b[1;31mNameError\u001b[0m                                 Traceback (most recent call last)",
      "Cell \u001b[1;32mIn[20], line 1\u001b[0m\n\u001b[1;32m----> 1\u001b[0m \u001b[38;5;28mprint\u001b[39m \u001b[38;5;241m=\u001b[39m hello\n",
      "\u001b[1;31mNameError\u001b[0m: name 'hello' is not defined"
     ]
    }
   ],
   "source": [
    "print = hello # 5) python keyword should not be used as a variable name"
   ]
  },
  {
   "cell_type": "code",
   "execution_count": null,
   "id": "8a7fc585",
   "metadata": {},
   "outputs": [],
   "source": []
  },
  {
   "cell_type": "code",
   "execution_count": 21,
   "id": "57125620",
   "metadata": {},
   "outputs": [],
   "source": [
    "# 4) practise:"
   ]
  },
  {
   "cell_type": "code",
   "execution_count": 22,
   "id": "83bcdc78",
   "metadata": {},
   "outputs": [
    {
     "name": "stdout",
     "output_type": "stream",
     "text": [
      "Enter your name: Akshen\n",
      "Your age is: 24\n",
      "Hello Akshen, How are you doing and what is your current age? It's 24!"
     ]
    }
   ],
   "source": [
    "name = input(\"Enter your name: \")\n",
    "age = input (\"Your age is: \")\n",
    "\n",
    "print(\"Hello\", name, end=\",\")\n",
    "print(\" How are you doing and what is your current age? It's\", age, end=\"!\")"
   ]
  },
  {
   "cell_type": "code",
   "execution_count": 23,
   "id": "fa4b4659",
   "metadata": {},
   "outputs": [
    {
     "name": "stdout",
     "output_type": "stream",
     "text": [
      "Name is Akshen and age is 24\n",
      "Name is Akshen and age is 24\n"
     ]
    }
   ],
   "source": [
    "# other methods:\n",
    "print(\"Name is {} and age is {}\".format(name,age))\n",
    "\n",
    "print(f\"Name is {name} and age is {age}\")"
   ]
  },
  {
   "cell_type": "code",
   "execution_count": null,
   "id": "0c19d021",
   "metadata": {},
   "outputs": [],
   "source": []
  },
  {
   "cell_type": "code",
   "execution_count": 24,
   "id": "6409ec70",
   "metadata": {},
   "outputs": [],
   "source": [
    "# 5) user defined functions:"
   ]
  },
  {
   "cell_type": "code",
   "execution_count": 25,
   "id": "9da9407f",
   "metadata": {},
   "outputs": [],
   "source": [
    "def Total (first_num, second_num): # Total = function name\n",
    "    total = first_num + second_num # total = variable name, first_num & second_num = input value\n",
    "    return total # return = the final value is returned/called"
   ]
  },
  {
   "cell_type": "code",
   "execution_count": 26,
   "id": "f3f54d30",
   "metadata": {},
   "outputs": [
    {
     "data": {
      "text/plain": [
       "90"
      ]
     },
     "execution_count": 26,
     "metadata": {},
     "output_type": "execute_result"
    }
   ],
   "source": [
    "Total (45, 45)"
   ]
  },
  {
   "cell_type": "code",
   "execution_count": 27,
   "id": "505b1199",
   "metadata": {},
   "outputs": [],
   "source": [
    "def Avg(first_num, second_num): #Avg = function name\n",
    "    total = first_num + second_num\n",
    "    return total/2 # returns total value but dividing by 2!"
   ]
  },
  {
   "cell_type": "code",
   "execution_count": 28,
   "id": "3d97c8f3",
   "metadata": {},
   "outputs": [
    {
     "data": {
      "text/plain": [
       "21.0"
      ]
     },
     "execution_count": 28,
     "metadata": {},
     "output_type": "execute_result"
    }
   ],
   "source": [
    "Avg (40, 2)"
   ]
  },
  {
   "cell_type": "code",
   "execution_count": null,
   "id": "715f2951",
   "metadata": {},
   "outputs": [],
   "source": []
  }
 ],
 "metadata": {
  "kernelspec": {
   "display_name": "Python 3 (ipykernel)",
   "language": "python",
   "name": "python3"
  },
  "language_info": {
   "codemirror_mode": {
    "name": "ipython",
    "version": 3
   },
   "file_extension": ".py",
   "mimetype": "text/x-python",
   "name": "python",
   "nbconvert_exporter": "python",
   "pygments_lexer": "ipython3",
   "version": "3.11.4"
  }
 },
 "nbformat": 4,
 "nbformat_minor": 5
}
