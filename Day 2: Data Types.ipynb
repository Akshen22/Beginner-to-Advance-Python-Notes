{
 "cells": [
  {
   "cell_type": "code",
   "execution_count": 1,
   "id": "2ed05de2",
   "metadata": {},
   "outputs": [],
   "source": [
    "# 1) data types:"
   ]
  },
  {
   "cell_type": "code",
   "execution_count": 2,
   "id": "6e9af643",
   "metadata": {},
   "outputs": [
    {
     "name": "stdout",
     "output_type": "stream",
     "text": [
      "-20\n"
     ]
    },
    {
     "data": {
      "text/plain": [
       "int"
      ]
     },
     "execution_count": 2,
     "metadata": {},
     "output_type": "execute_result"
    }
   ],
   "source": [
    "a = -20\n",
    "print(a)\n",
    "type(a) # 1) int"
   ]
  },
  {
   "cell_type": "code",
   "execution_count": 3,
   "id": "7ad1aa00",
   "metadata": {},
   "outputs": [
    {
     "name": "stdout",
     "output_type": "stream",
     "text": [
      "4.2\n"
     ]
    },
    {
     "data": {
      "text/plain": [
       "float"
      ]
     },
     "execution_count": 3,
     "metadata": {},
     "output_type": "execute_result"
    }
   ],
   "source": [
    "b = 4.2\n",
    "print(b)\n",
    "type(b) # 2) float"
   ]
  },
  {
   "cell_type": "code",
   "execution_count": 4,
   "id": "82224ac5",
   "metadata": {},
   "outputs": [
    {
     "name": "stdout",
     "output_type": "stream",
     "text": [
      "5j\n",
      "<class 'complex'>\n"
     ]
    }
   ],
   "source": [
    "c = 5j\n",
    "print(c)\n",
    "print(type(c)) # 3) complex"
   ]
  },
  {
   "cell_type": "code",
   "execution_count": 5,
   "id": "551e22fa",
   "metadata": {},
   "outputs": [
    {
     "data": {
      "text/plain": [
       "0.0"
      ]
     },
     "execution_count": 5,
     "metadata": {},
     "output_type": "execute_result"
    }
   ],
   "source": [
    "c.real # real number = 0"
   ]
  },
  {
   "cell_type": "code",
   "execution_count": 6,
   "id": "9c9d3ecb",
   "metadata": {},
   "outputs": [
    {
     "data": {
      "text/plain": [
       "5.0"
      ]
     },
     "execution_count": 6,
     "metadata": {},
     "output_type": "execute_result"
    }
   ],
   "source": [
    "c.imag # imaginary number = 5"
   ]
  },
  {
   "cell_type": "code",
   "execution_count": 7,
   "id": "c45b96ec",
   "metadata": {},
   "outputs": [
    {
     "name": "stdout",
     "output_type": "stream",
     "text": [
      "Akshen\n",
      "<class 'str'>\n"
     ]
    }
   ],
   "source": [
    "d = \"Akshen\"\n",
    "print(d)\n",
    "print(type(d)) # 4) string"
   ]
  },
  {
   "cell_type": "code",
   "execution_count": 8,
   "id": "e64d63d0",
   "metadata": {},
   "outputs": [
    {
     "name": "stdout",
     "output_type": "stream",
     "text": [
      "Hi\n"
     ]
    },
    {
     "data": {
      "text/plain": [
       "str"
      ]
     },
     "execution_count": 8,
     "metadata": {},
     "output_type": "execute_result"
    }
   ],
   "source": [
    "e = 'Hi'\n",
    "print(e)\n",
    "type(e)"
   ]
  },
  {
   "cell_type": "code",
   "execution_count": 9,
   "id": "7f039f4f",
   "metadata": {},
   "outputs": [
    {
     "name": "stdout",
     "output_type": "stream",
     "text": [
      "How are you\n"
     ]
    },
    {
     "data": {
      "text/plain": [
       "str"
      ]
     },
     "execution_count": 9,
     "metadata": {},
     "output_type": "execute_result"
    }
   ],
   "source": [
    "f = '''How are you'''\n",
    "print(f)\n",
    "type(f)"
   ]
  },
  {
   "cell_type": "code",
   "execution_count": 10,
   "id": "c3adb246",
   "metadata": {},
   "outputs": [
    {
     "ename": "SyntaxError",
     "evalue": "unterminated string literal (detected at line 1) (2738605623.py, line 1)",
     "output_type": "error",
     "traceback": [
      "\u001b[1;36m  Cell \u001b[1;32mIn[10], line 1\u001b[1;36m\u001b[0m\n\u001b[1;33m    g = 'Student's marks are great'\u001b[0m\n\u001b[1;37m                                  ^\u001b[0m\n\u001b[1;31mSyntaxError\u001b[0m\u001b[1;31m:\u001b[0m unterminated string literal (detected at line 1)\n"
     ]
    }
   ],
   "source": [
    "g = 'Student's marks are great'\n",
    "\n",
    "g # error as it couldn't distinguish between 's!"
   ]
  },
  {
   "cell_type": "code",
   "execution_count": 11,
   "id": "65fc29b4",
   "metadata": {},
   "outputs": [
    {
     "data": {
      "text/plain": [
       "\"Student's marks are great\""
      ]
     },
     "execution_count": 11,
     "metadata": {},
     "output_type": "execute_result"
    }
   ],
   "source": [
    "h = \"Student's marks are great\" \n",
    "h # able to distinguish"
   ]
  },
  {
   "cell_type": "code",
   "execution_count": 12,
   "id": "124bee26",
   "metadata": {},
   "outputs": [
    {
     "data": {
      "text/plain": [
       "\"Student's marks are great\""
      ]
     },
     "execution_count": 12,
     "metadata": {},
     "output_type": "execute_result"
    }
   ],
   "source": [
    "i = '''Student's marks are great''' \n",
    "i"
   ]
  },
  {
   "cell_type": "code",
   "execution_count": 13,
   "id": "4ef174d9",
   "metadata": {},
   "outputs": [
    {
     "data": {
      "text/plain": [
       "'Student\\'s marks are \"great\"'"
      ]
     },
     "execution_count": 13,
     "metadata": {},
     "output_type": "execute_result"
    }
   ],
   "source": [
    "j = '''Student's marks are \"great\"''' \n",
    "j # not able to get properly, use: print(j) in such scenerio"
   ]
  },
  {
   "cell_type": "code",
   "execution_count": 14,
   "id": "156b13da",
   "metadata": {},
   "outputs": [
    {
     "name": "stdout",
     "output_type": "stream",
     "text": [
      "Student's marks are \"great\"\n"
     ]
    }
   ],
   "source": [
    "k = '''Student's marks are \"great\"''' \n",
    "print(k)"
   ]
  },
  {
   "cell_type": "code",
   "execution_count": 15,
   "id": "93a512d2",
   "metadata": {},
   "outputs": [
    {
     "data": {
      "text/plain": [
       "'I love my home because,\\nIt has wonderful paintings.'"
      ]
     },
     "execution_count": 15,
     "metadata": {},
     "output_type": "execute_result"
    }
   ],
   "source": [
    "l = '''I love my home because,\n",
    "It has wonderful paintings.'''\n",
    "l # it understand that it starts from a new line, it is right but we don't want it, so write: print(l)"
   ]
  },
  {
   "cell_type": "code",
   "execution_count": 16,
   "id": "ed41d478",
   "metadata": {},
   "outputs": [
    {
     "name": "stdout",
     "output_type": "stream",
     "text": [
      "I love my home because,\n",
      "It has wonderful paintings.\n"
     ]
    }
   ],
   "source": [
    "m = '''I love my home because,\n",
    "It has wonderful paintings.'''\n",
    "print(m)"
   ]
  },
  {
   "cell_type": "markdown",
   "id": "d5366c7e",
   "metadata": {},
   "source": [
    "Both l and m are same but it occurs due to interactive environment which displays them"
   ]
  },
  {
   "cell_type": "code",
   "execution_count": 17,
   "id": "cc848e7b",
   "metadata": {},
   "outputs": [
    {
     "name": "stdout",
     "output_type": "stream",
     "text": [
      "False\n",
      "<class 'bool'>\n"
     ]
    }
   ],
   "source": [
    "Course_s = False\n",
    "print(Course_s)\n",
    "print(type(Course_s)) # 5) boolean"
   ]
  },
  {
   "cell_type": "code",
   "execution_count": null,
   "id": "273ccf09",
   "metadata": {},
   "outputs": [],
   "source": []
  },
  {
   "cell_type": "code",
   "execution_count": 18,
   "id": "fad58145",
   "metadata": {},
   "outputs": [],
   "source": [
    "# 2) type casting:"
   ]
  },
  {
   "cell_type": "code",
   "execution_count": 19,
   "id": "a3043fdb",
   "metadata": {},
   "outputs": [
    {
     "data": {
      "text/plain": [
       "1"
      ]
     },
     "execution_count": 19,
     "metadata": {},
     "output_type": "execute_result"
    }
   ],
   "source": [
    "False + False + True # True = 1, False = 0"
   ]
  },
  {
   "cell_type": "code",
   "execution_count": 20,
   "id": "0e9d8e63",
   "metadata": {},
   "outputs": [
    {
     "ename": "NameError",
     "evalue": "name 'false' is not defined",
     "output_type": "error",
     "traceback": [
      "\u001b[1;31m---------------------------------------------------------------------------\u001b[0m",
      "\u001b[1;31mNameError\u001b[0m                                 Traceback (most recent call last)",
      "Cell \u001b[1;32mIn[20], line 1\u001b[0m\n\u001b[1;32m----> 1\u001b[0m false \u001b[38;5;241m+\u001b[39m false \u001b[38;5;241m+\u001b[39m true\n",
      "\u001b[1;31mNameError\u001b[0m: name 'false' is not defined"
     ]
    }
   ],
   "source": [
    "false + false + true # boolean has caps letter in the beginning of True & False"
   ]
  },
  {
   "cell_type": "code",
   "execution_count": null,
   "id": "3a14df5b",
   "metadata": {},
   "outputs": [],
   "source": []
  },
  {
   "cell_type": "code",
   "execution_count": 21,
   "id": "021da089",
   "metadata": {},
   "outputs": [],
   "source": [
    "# 3) change data types: "
   ]
  },
  {
   "cell_type": "code",
   "execution_count": 22,
   "id": "ce2fb06d",
   "metadata": {},
   "outputs": [],
   "source": [
    "# a) int to float, str, complex, bool"
   ]
  },
  {
   "cell_type": "code",
   "execution_count": 23,
   "id": "a8bcd356",
   "metadata": {},
   "outputs": [
    {
     "data": {
      "text/plain": [
       "int"
      ]
     },
     "execution_count": 23,
     "metadata": {},
     "output_type": "execute_result"
    }
   ],
   "source": [
    "A = 22\n",
    "type(A)"
   ]
  },
  {
   "cell_type": "code",
   "execution_count": 24,
   "id": "c1509e9c",
   "metadata": {},
   "outputs": [
    {
     "name": "stdout",
     "output_type": "stream",
     "text": [
      "22.0\n"
     ]
    }
   ],
   "source": [
    "B = float (A)\n",
    "print(B)"
   ]
  },
  {
   "cell_type": "code",
   "execution_count": 25,
   "id": "71f1fa86",
   "metadata": {},
   "outputs": [
    {
     "data": {
      "text/plain": [
       "complex"
      ]
     },
     "execution_count": 25,
     "metadata": {},
     "output_type": "execute_result"
    }
   ],
   "source": [
    "C = 20\n",
    "type(c)\n",
    "# why complex??\n",
    "# because it's case sensitive, above the c is given a complex value!"
   ]
  },
  {
   "cell_type": "code",
   "execution_count": 26,
   "id": "aead3d99",
   "metadata": {},
   "outputs": [
    {
     "data": {
      "text/plain": [
       "(22+0j)"
      ]
     },
     "execution_count": 26,
     "metadata": {},
     "output_type": "execute_result"
    }
   ],
   "source": [
    "D = complex(A)\n",
    "D"
   ]
  },
  {
   "cell_type": "code",
   "execution_count": 27,
   "id": "564a5542",
   "metadata": {},
   "outputs": [
    {
     "data": {
      "text/plain": [
       "'22'"
      ]
     },
     "execution_count": 27,
     "metadata": {},
     "output_type": "execute_result"
    }
   ],
   "source": [
    "E = str (A)\n",
    "E"
   ]
  },
  {
   "cell_type": "code",
   "execution_count": 28,
   "id": "94892bf5",
   "metadata": {},
   "outputs": [
    {
     "data": {
      "text/plain": [
       "True"
      ]
     },
     "execution_count": 28,
     "metadata": {},
     "output_type": "execute_result"
    }
   ],
   "source": [
    "F = bool (A)\n",
    "F #has value so it counts as 1 and so it's true"
   ]
  },
  {
   "cell_type": "code",
   "execution_count": 29,
   "id": "6d2d2a3f",
   "metadata": {},
   "outputs": [
    {
     "data": {
      "text/plain": [
       "False"
      ]
     },
     "execution_count": 29,
     "metadata": {},
     "output_type": "execute_result"
    }
   ],
   "source": [
    "G = bool (0)\n",
    "G # has 0, so it's false"
   ]
  },
  {
   "cell_type": "code",
   "execution_count": 30,
   "id": "32601e52",
   "metadata": {},
   "outputs": [
    {
     "data": {
      "text/plain": [
       "True"
      ]
     },
     "execution_count": 30,
     "metadata": {},
     "output_type": "execute_result"
    }
   ],
   "source": [
    "H = bool (-11)\n",
    "H # even -ve numbers are there and counted so it's true"
   ]
  },
  {
   "cell_type": "code",
   "execution_count": null,
   "id": "f70a72c7",
   "metadata": {},
   "outputs": [],
   "source": []
  },
  {
   "cell_type": "code",
   "execution_count": 31,
   "id": "86c2ce9e",
   "metadata": {},
   "outputs": [],
   "source": [
    "# b) float to int, str, complex, bool"
   ]
  },
  {
   "cell_type": "code",
   "execution_count": 32,
   "id": "7c803362",
   "metadata": {},
   "outputs": [],
   "source": [
    "I = 10.22"
   ]
  },
  {
   "cell_type": "code",
   "execution_count": 33,
   "id": "dfa8111b",
   "metadata": {},
   "outputs": [
    {
     "name": "stdout",
     "output_type": "stream",
     "text": [
      "10\n",
      "<class 'int'>\n",
      "10.22\n",
      "<class 'str'>\n",
      "(10.22+0j)\n",
      "<class 'complex'>\n",
      "True\n",
      "<class 'bool'>\n"
     ]
    }
   ],
   "source": [
    "J = int(I)\n",
    "print(J)\n",
    "print(type(J))\n",
    "\n",
    "K = str(I)\n",
    "print(K)\n",
    "print(type(K))\n",
    "\n",
    "L = complex(I)\n",
    "print(L)\n",
    "print(type(L))\n",
    "\n",
    "M = bool(I)\n",
    "print(M)\n",
    "print(type(M))"
   ]
  },
  {
   "cell_type": "code",
   "execution_count": null,
   "id": "f9751ba9",
   "metadata": {},
   "outputs": [],
   "source": []
  },
  {
   "cell_type": "code",
   "execution_count": 34,
   "id": "c071f7ac",
   "metadata": {},
   "outputs": [],
   "source": [
    "# c) complex to int, float, str, bool"
   ]
  },
  {
   "cell_type": "code",
   "execution_count": 35,
   "id": "c5fef393",
   "metadata": {},
   "outputs": [
    {
     "data": {
      "text/plain": [
       "(10+5j)"
      ]
     },
     "execution_count": 35,
     "metadata": {},
     "output_type": "execute_result"
    }
   ],
   "source": [
    "z = 10 + 5j\n",
    "z"
   ]
  },
  {
   "cell_type": "code",
   "execution_count": 36,
   "id": "0f4537f0",
   "metadata": {},
   "outputs": [
    {
     "ename": "TypeError",
     "evalue": "int() argument must be a string, a bytes-like object or a real number, not 'complex'",
     "output_type": "error",
     "traceback": [
      "\u001b[1;31m---------------------------------------------------------------------------\u001b[0m",
      "\u001b[1;31mTypeError\u001b[0m                                 Traceback (most recent call last)",
      "Cell \u001b[1;32mIn[36], line 1\u001b[0m\n\u001b[1;32m----> 1\u001b[0m y \u001b[38;5;241m=\u001b[39m \u001b[38;5;28mint\u001b[39m (z)\n\u001b[0;32m      2\u001b[0m \u001b[38;5;28mprint\u001b[39m(y)\n\u001b[0;32m      3\u001b[0m \u001b[38;5;28mtype\u001b[39m(y)\n",
      "\u001b[1;31mTypeError\u001b[0m: int() argument must be a string, a bytes-like object or a real number, not 'complex'"
     ]
    }
   ],
   "source": [
    "y = int (z)\n",
    "print(y)\n",
    "type(y) # not all data types can be changed as we want:"
   ]
  },
  {
   "cell_type": "code",
   "execution_count": 37,
   "id": "669c2eb4",
   "metadata": {
    "scrolled": true
   },
   "outputs": [
    {
     "ename": "TypeError",
     "evalue": "float() argument must be a string or a real number, not 'complex'",
     "output_type": "error",
     "traceback": [
      "\u001b[1;31m---------------------------------------------------------------------------\u001b[0m",
      "\u001b[1;31mTypeError\u001b[0m                                 Traceback (most recent call last)",
      "Cell \u001b[1;32mIn[37], line 1\u001b[0m\n\u001b[1;32m----> 1\u001b[0m x \u001b[38;5;241m=\u001b[39m \u001b[38;5;28mfloat\u001b[39m (z)\n\u001b[0;32m      2\u001b[0m \u001b[38;5;28mprint\u001b[39m(x)\n\u001b[0;32m      3\u001b[0m \u001b[38;5;28mtype\u001b[39m(x)\n",
      "\u001b[1;31mTypeError\u001b[0m: float() argument must be a string or a real number, not 'complex'"
     ]
    }
   ],
   "source": [
    "x = float (z)\n",
    "print(x)\n",
    "type(x)"
   ]
  },
  {
   "cell_type": "code",
   "execution_count": 38,
   "id": "f7646a19",
   "metadata": {},
   "outputs": [
    {
     "name": "stdout",
     "output_type": "stream",
     "text": [
      "(10+5j)\n"
     ]
    },
    {
     "data": {
      "text/plain": [
       "str"
      ]
     },
     "execution_count": 38,
     "metadata": {},
     "output_type": "execute_result"
    }
   ],
   "source": [
    "w = str (z)\n",
    "print(w)\n",
    "type(w)"
   ]
  },
  {
   "cell_type": "code",
   "execution_count": 39,
   "id": "6890b5df",
   "metadata": {},
   "outputs": [
    {
     "name": "stdout",
     "output_type": "stream",
     "text": [
      "True\n"
     ]
    },
    {
     "data": {
      "text/plain": [
       "bool"
      ]
     },
     "execution_count": 39,
     "metadata": {},
     "output_type": "execute_result"
    }
   ],
   "source": [
    "v = bool (z)\n",
    "print(v)\n",
    "type(v)"
   ]
  },
  {
   "cell_type": "code",
   "execution_count": null,
   "id": "c40cf0ae",
   "metadata": {},
   "outputs": [],
   "source": []
  },
  {
   "cell_type": "code",
   "execution_count": 40,
   "id": "d42952c7",
   "metadata": {},
   "outputs": [],
   "source": [
    "# d) str to int, float, bool, complex"
   ]
  },
  {
   "cell_type": "code",
   "execution_count": 41,
   "id": "d3328c44",
   "metadata": {},
   "outputs": [],
   "source": [
    "u = \"120\""
   ]
  },
  {
   "cell_type": "code",
   "execution_count": 42,
   "id": "4573fdbb",
   "metadata": {},
   "outputs": [
    {
     "name": "stdout",
     "output_type": "stream",
     "text": [
      "120\n",
      "<class 'int'>\n",
      "120.0\n",
      "<class 'float'>\n",
      "(120+0j)\n",
      "<class 'complex'>\n",
      "True\n",
      "<class 'bool'>\n"
     ]
    }
   ],
   "source": [
    "t = int(u)\n",
    "print(t)\n",
    "print(type(t))\n",
    "\n",
    "s = float(u)\n",
    "print(s)\n",
    "print(type(s))\n",
    "\n",
    "r = complex(u)\n",
    "print(r)\n",
    "print(type(r))\n",
    "\n",
    "q = bool(u)\n",
    "print(q)\n",
    "print(type(q))"
   ]
  },
  {
   "cell_type": "code",
   "execution_count": null,
   "id": "62a656f8",
   "metadata": {},
   "outputs": [],
   "source": []
  },
  {
   "cell_type": "code",
   "execution_count": 43,
   "id": "75ed9275",
   "metadata": {},
   "outputs": [],
   "source": [
    "# e) bool to int, float, str, complex"
   ]
  },
  {
   "cell_type": "code",
   "execution_count": 44,
   "id": "5a65646c",
   "metadata": {},
   "outputs": [],
   "source": [
    "p = True"
   ]
  },
  {
   "cell_type": "code",
   "execution_count": 45,
   "id": "d569c0ca",
   "metadata": {
    "scrolled": true
   },
   "outputs": [
    {
     "name": "stdout",
     "output_type": "stream",
     "text": [
      "1\n",
      "<class 'int'>\n",
      "1.0\n",
      "<class 'float'>\n",
      "True\n",
      "<class 'str'>\n",
      "(1+0j)\n",
      "<class 'complex'>\n"
     ]
    }
   ],
   "source": [
    "o = int(p)\n",
    "print(o)\n",
    "print(type(o))\n",
    "\n",
    "n = float(p)\n",
    "print(n)\n",
    "print(type(n))\n",
    "\n",
    "m = str(p)\n",
    "print(m)\n",
    "print(type(m))\n",
    "\n",
    "l = complex(p)\n",
    "print(l)\n",
    "print(type(l))"
   ]
  },
  {
   "cell_type": "code",
   "execution_count": null,
   "id": "d00def9b",
   "metadata": {},
   "outputs": [],
   "source": []
  }
 ],
 "metadata": {
  "kernelspec": {
   "display_name": "Python 3 (ipykernel)",
   "language": "python",
   "name": "python3"
  },
  "language_info": {
   "codemirror_mode": {
    "name": "ipython",
    "version": 3
   },
   "file_extension": ".py",
   "mimetype": "text/x-python",
   "name": "python",
   "nbconvert_exporter": "python",
   "pygments_lexer": "ipython3",
   "version": "3.11.4"
  }
 },
 "nbformat": 4,
 "nbformat_minor": 5
}
