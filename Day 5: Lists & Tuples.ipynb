{
 "cells": [
  {
   "cell_type": "markdown",
   "id": "49087e5c",
   "metadata": {},
   "source": [
    "## List"
   ]
  },
  {
   "cell_type": "code",
   "execution_count": 1,
   "id": "37c01fec",
   "metadata": {},
   "outputs": [],
   "source": [
    "# a) index & slicing:"
   ]
  },
  {
   "cell_type": "code",
   "execution_count": 2,
   "id": "bf67de8c",
   "metadata": {},
   "outputs": [
    {
     "data": {
      "text/plain": [
       "[]"
      ]
     },
     "execution_count": 2,
     "metadata": {},
     "output_type": "execute_result"
    }
   ],
   "source": [
    "num_list = []\n",
    "num_list"
   ]
  },
  {
   "cell_type": "code",
   "execution_count": 3,
   "id": "c91d1f1b",
   "metadata": {},
   "outputs": [
    {
     "data": {
      "text/plain": [
       "list"
      ]
     },
     "execution_count": 3,
     "metadata": {},
     "output_type": "execute_result"
    }
   ],
   "source": [
    "type(num_list)"
   ]
  },
  {
   "cell_type": "code",
   "execution_count": 4,
   "id": "16016b8b",
   "metadata": {},
   "outputs": [
    {
     "data": {
      "text/plain": [
       "['python', 80, 80.9, True, (10+5j)]"
      ]
     },
     "execution_count": 4,
     "metadata": {},
     "output_type": "execute_result"
    }
   ],
   "source": [
    "num_list=[\"python\", 80, 80.9, True, 10+5j]\n",
    "num_list"
   ]
  },
  {
   "cell_type": "code",
   "execution_count": 5,
   "id": "56f1e705",
   "metadata": {
    "scrolled": true
   },
   "outputs": [
    {
     "data": {
      "text/plain": [
       "'h'"
      ]
     },
     "execution_count": 5,
     "metadata": {},
     "output_type": "execute_result"
    }
   ],
   "source": [
    "num_list[0][-3]"
   ]
  },
  {
   "cell_type": "code",
   "execution_count": 6,
   "id": "58bfdc08",
   "metadata": {},
   "outputs": [
    {
     "data": {
      "text/plain": [
       "True"
      ]
     },
     "execution_count": 6,
     "metadata": {},
     "output_type": "execute_result"
    }
   ],
   "source": [
    "num_list[-2]"
   ]
  },
  {
   "cell_type": "code",
   "execution_count": 7,
   "id": "c7166d54",
   "metadata": {},
   "outputs": [
    {
     "data": {
      "text/plain": [
       "[80, 80.9, True, (10+5j)]"
      ]
     },
     "execution_count": 7,
     "metadata": {},
     "output_type": "execute_result"
    }
   ],
   "source": [
    "num_list[1:5]"
   ]
  },
  {
   "cell_type": "code",
   "execution_count": 8,
   "id": "e7b70824",
   "metadata": {},
   "outputs": [
    {
     "data": {
      "text/plain": [
       "['python', 80]"
      ]
     },
     "execution_count": 8,
     "metadata": {},
     "output_type": "execute_result"
    }
   ],
   "source": [
    "num_list[:-3]"
   ]
  },
  {
   "cell_type": "code",
   "execution_count": null,
   "id": "e2939c65",
   "metadata": {},
   "outputs": [],
   "source": []
  },
  {
   "cell_type": "code",
   "execution_count": 9,
   "id": "490ed442",
   "metadata": {},
   "outputs": [],
   "source": [
    "# b) mutable?"
   ]
  },
  {
   "cell_type": "code",
   "execution_count": 10,
   "id": "929ba3e8",
   "metadata": {},
   "outputs": [
    {
     "data": {
      "text/plain": [
       "['mysql', 80, 80.9, True, (10+5j)]"
      ]
     },
     "execution_count": 10,
     "metadata": {},
     "output_type": "execute_result"
    }
   ],
   "source": [
    "num_list[0] = \"mysql\"\n",
    "num_list #can change the value, unlike string; it's mutable!"
   ]
  },
  {
   "cell_type": "code",
   "execution_count": 11,
   "id": "01b7ee88",
   "metadata": {},
   "outputs": [
    {
     "data": {
      "text/plain": [
       "['python', 90, 80.9, True, (10+5j)]"
      ]
     },
     "execution_count": 11,
     "metadata": {},
     "output_type": "execute_result"
    }
   ],
   "source": [
    "num_list[:2]=[\"python\", 90]\n",
    "num_list"
   ]
  },
  {
   "cell_type": "code",
   "execution_count": 12,
   "id": "98bd82aa",
   "metadata": {},
   "outputs": [
    {
     "data": {
      "text/plain": [
       "['python', 80, [110, 130, 210]]"
      ]
     },
     "execution_count": 12,
     "metadata": {},
     "output_type": "execute_result"
    }
   ],
   "source": [
    "num_list = [\"python\", 80, [80.9, 99, 210]  ]\n",
    "num_list[2][0 : 2] = [110,130]\n",
    "num_list"
   ]
  },
  {
   "cell_type": "code",
   "execution_count": 13,
   "id": "79a5ebc4",
   "metadata": {},
   "outputs": [
    {
     "name": "stdout",
     "output_type": "stream",
     "text": [
      "python\n",
      "80\n",
      "[110, 130, 210]\n"
     ]
    }
   ],
   "source": [
    "for i in num_list:\n",
    "    print(i)"
   ]
  },
  {
   "cell_type": "code",
   "execution_count": 14,
   "id": "ebb45ba7",
   "metadata": {},
   "outputs": [
    {
     "data": {
      "text/plain": [
       "3"
      ]
     },
     "execution_count": 14,
     "metadata": {},
     "output_type": "execute_result"
    }
   ],
   "source": [
    "# c) #checking length:\n",
    "len(num_list)"
   ]
  },
  {
   "cell_type": "code",
   "execution_count": null,
   "id": "21cba48c",
   "metadata": {},
   "outputs": [],
   "source": []
  },
  {
   "cell_type": "code",
   "execution_count": 15,
   "id": "730a50b4",
   "metadata": {},
   "outputs": [
    {
     "name": "stdout",
     "output_type": "stream",
     "text": [
      "['__add__', '__class__', '__class_getitem__', '__contains__', '__delattr__', '__delitem__', '__dir__', '__doc__', '__eq__', '__format__', '__ge__', '__getattribute__', '__getitem__', '__getstate__', '__gt__', '__hash__', '__iadd__', '__imul__', '__init__', '__init_subclass__', '__iter__', '__le__', '__len__', '__lt__', '__mul__', '__ne__', '__new__', '__reduce__', '__reduce_ex__', '__repr__', '__reversed__', '__rmul__', '__setattr__', '__setitem__', '__sizeof__', '__str__', '__subclasshook__', 'append', 'clear', 'copy', 'count', 'extend', 'index', 'insert', 'pop', 'remove', 'reverse', 'sort']\n"
     ]
    }
   ],
   "source": [
    "# d) list methods:\n",
    "\n",
    "print(dir(list))"
   ]
  },
  {
   "cell_type": "code",
   "execution_count": 16,
   "id": "a9c4aeef",
   "metadata": {},
   "outputs": [],
   "source": [
    "# 'append', 'clear', 'copy', 'count', 'extend', 'index', 'insert', 'pop', 'remove', 'reverse', 'sort"
   ]
  },
  {
   "cell_type": "code",
   "execution_count": 17,
   "id": "f1410530",
   "metadata": {},
   "outputs": [
    {
     "data": {
      "text/plain": [
       "['python', 80, [110, 130, 210]]"
      ]
     },
     "execution_count": 17,
     "metadata": {},
     "output_type": "execute_result"
    }
   ],
   "source": [
    "num_list"
   ]
  },
  {
   "cell_type": "code",
   "execution_count": 18,
   "id": "6cf24a6e",
   "metadata": {},
   "outputs": [],
   "source": [
    "# add values via different means (append, extend, insert):\n",
    "\n",
    "# append:\n",
    "num_list.append(\"java\") #adds single value at a time"
   ]
  },
  {
   "cell_type": "code",
   "execution_count": 19,
   "id": "596a5a29",
   "metadata": {},
   "outputs": [],
   "source": [
    "num_list.append([\"ds\", \"ml\"]) #does add two values but as 1 list"
   ]
  },
  {
   "cell_type": "code",
   "execution_count": 20,
   "id": "e0c91ff5",
   "metadata": {},
   "outputs": [
    {
     "data": {
      "text/plain": [
       "['python', 80, [110, 130, 210], 'java', ['ds', 'ml']]"
      ]
     },
     "execution_count": 20,
     "metadata": {},
     "output_type": "execute_result"
    }
   ],
   "source": [
    "num_list"
   ]
  },
  {
   "cell_type": "code",
   "execution_count": null,
   "id": "25a9e5b1",
   "metadata": {},
   "outputs": [],
   "source": []
  },
  {
   "cell_type": "code",
   "execution_count": 21,
   "id": "a888313c",
   "metadata": {},
   "outputs": [
    {
     "data": {
      "text/plain": [
       "['python',\n",
       " 80,\n",
       " [110, 130, 210],\n",
       " 'java',\n",
       " ['ds', 'ml'],\n",
       " 'python',\n",
       " 80,\n",
       " [110, 130, 210],\n",
       " 'java',\n",
       " ['ds', 'ml']]"
      ]
     },
     "execution_count": 21,
     "metadata": {},
     "output_type": "execute_result"
    }
   ],
   "source": [
    "# extend:\n",
    "# Adds multiple elements to the end of the list. This method takes an iterable (like a list, tuple, or set)\n",
    "num_list.extend(num_list)\n",
    "num_list"
   ]
  },
  {
   "cell_type": "code",
   "execution_count": null,
   "id": "29ec7cb1",
   "metadata": {},
   "outputs": [],
   "source": []
  },
  {
   "cell_type": "code",
   "execution_count": 22,
   "id": "86b976a4",
   "metadata": {},
   "outputs": [
    {
     "data": {
      "text/plain": [
       "['python',\n",
       " 'a',\n",
       " 80,\n",
       " [110, 130, 210],\n",
       " 'java',\n",
       " ['ds', 'ml'],\n",
       " 'python',\n",
       " 80,\n",
       " [110, 130, 210],\n",
       " 'java',\n",
       " ['ds', 'ml']]"
      ]
     },
     "execution_count": 22,
     "metadata": {},
     "output_type": "execute_result"
    }
   ],
   "source": [
    "# insert: requires index number & a value\n",
    "num_list.insert(1, 'a')\n",
    "num_list # adds a at index 1"
   ]
  },
  {
   "cell_type": "code",
   "execution_count": null,
   "id": "1068d5d2",
   "metadata": {},
   "outputs": [],
   "source": []
  },
  {
   "cell_type": "code",
   "execution_count": 23,
   "id": "1a40db1d",
   "metadata": {},
   "outputs": [
    {
     "data": {
      "text/plain": [
       "2"
      ]
     },
     "execution_count": 23,
     "metadata": {},
     "output_type": "execute_result"
    }
   ],
   "source": [
    "# count:\n",
    "num_list.count(\"java\")"
   ]
  },
  {
   "cell_type": "code",
   "execution_count": null,
   "id": "183f78ec",
   "metadata": {},
   "outputs": [],
   "source": []
  },
  {
   "cell_type": "code",
   "execution_count": 24,
   "id": "b388e871",
   "metadata": {},
   "outputs": [
    {
     "data": {
      "text/plain": [
       "2"
      ]
     },
     "execution_count": 24,
     "metadata": {},
     "output_type": "execute_result"
    }
   ],
   "source": [
    "# index:\n",
    "num_list.index(80)"
   ]
  },
  {
   "cell_type": "code",
   "execution_count": 25,
   "id": "9a7f36f7",
   "metadata": {},
   "outputs": [
    {
     "data": {
      "text/plain": [
       "7"
      ]
     },
     "execution_count": 25,
     "metadata": {},
     "output_type": "execute_result"
    }
   ],
   "source": [
    "num_list.index(80, 4) #want to see when does 80 comes after index 4"
   ]
  },
  {
   "cell_type": "code",
   "execution_count": null,
   "id": "fbbea8b7",
   "metadata": {},
   "outputs": [],
   "source": []
  },
  {
   "cell_type": "code",
   "execution_count": 26,
   "id": "f33a6e42",
   "metadata": {},
   "outputs": [
    {
     "data": {
      "text/plain": [
       "[1, 2, 3, 4, 4, 5, 6, 7]"
      ]
     },
     "execution_count": 26,
     "metadata": {},
     "output_type": "execute_result"
    }
   ],
   "source": [
    "# operations (only + & *):\n",
    "list1 = [1,2,3,4]\n",
    "list2 = [4,5,6,7]\n",
    "list3 = list1 +list2\n",
    "list3"
   ]
  },
  {
   "cell_type": "code",
   "execution_count": 27,
   "id": "8a222fd1",
   "metadata": {},
   "outputs": [
    {
     "data": {
      "text/plain": [
       "[1, 2, 3, 4, 1, 2, 3, 4, 1, 2, 3, 4]"
      ]
     },
     "execution_count": 27,
     "metadata": {},
     "output_type": "execute_result"
    }
   ],
   "source": [
    "list1 = [1,2,3,4]\n",
    "list4 = list1*3\n",
    "list4"
   ]
  },
  {
   "cell_type": "code",
   "execution_count": null,
   "id": "a39a3861",
   "metadata": {},
   "outputs": [],
   "source": []
  },
  {
   "cell_type": "code",
   "execution_count": 28,
   "id": "f8d25b1b",
   "metadata": {},
   "outputs": [
    {
     "data": {
      "text/plain": [
       "['python',\n",
       " 'a',\n",
       " 80,\n",
       " [110, 130, 210],\n",
       " 'java',\n",
       " ['ds', 'ml'],\n",
       " 'python',\n",
       " 80,\n",
       " [110, 130, 210],\n",
       " 'java',\n",
       " ['ds', 'ml']]"
      ]
     },
     "execution_count": 28,
     "metadata": {},
     "output_type": "execute_result"
    }
   ],
   "source": [
    "# delete (remove, pop, clear):\n",
    "num_list"
   ]
  },
  {
   "cell_type": "code",
   "execution_count": 29,
   "id": "a6226f95",
   "metadata": {},
   "outputs": [
    {
     "data": {
      "text/plain": [
       "['python',\n",
       " 'a',\n",
       " [110, 130, 210],\n",
       " 'java',\n",
       " ['ds', 'ml'],\n",
       " 'python',\n",
       " 80,\n",
       " [110, 130, 210],\n",
       " 'java',\n",
       " ['ds', 'ml']]"
      ]
     },
     "execution_count": 29,
     "metadata": {},
     "output_type": "execute_result"
    }
   ],
   "source": [
    "# remove: \n",
    "# removes the first occurrence of a specified value from the list\n",
    "num_list.remove(80)\n",
    "num_list"
   ]
  },
  {
   "cell_type": "code",
   "execution_count": null,
   "id": "9976e772",
   "metadata": {},
   "outputs": [],
   "source": []
  },
  {
   "cell_type": "code",
   "execution_count": 30,
   "id": "0bd3cacf",
   "metadata": {},
   "outputs": [
    {
     "data": {
      "text/plain": [
       "['python', 'a', [110, 130, 210], 'java', 'python', 80, [110, 130, 210], 'java']"
      ]
     },
     "execution_count": 30,
     "metadata": {},
     "output_type": "execute_result"
    }
   ],
   "source": [
    "# pop: \n",
    "# a) in default conditions, removes the last element, \n",
    "# b) while stating index, it removes the given element\n",
    "\n",
    "num_list.pop()\n",
    "num_list\n",
    "\n",
    "num_list.pop(4)\n",
    "num_list"
   ]
  },
  {
   "cell_type": "code",
   "execution_count": null,
   "id": "7b74886c",
   "metadata": {},
   "outputs": [],
   "source": []
  },
  {
   "cell_type": "code",
   "execution_count": 31,
   "id": "93b7ee76",
   "metadata": {},
   "outputs": [
    {
     "data": {
      "text/plain": [
       "[]"
      ]
     },
     "execution_count": 31,
     "metadata": {},
     "output_type": "execute_result"
    }
   ],
   "source": [
    "# clear:\n",
    "# clears entire list!\n",
    "\n",
    "num_list.clear()\n",
    "num_list"
   ]
  },
  {
   "cell_type": "code",
   "execution_count": null,
   "id": "43dac675",
   "metadata": {},
   "outputs": [],
   "source": []
  },
  {
   "cell_type": "code",
   "execution_count": 32,
   "id": "ae6c6f91",
   "metadata": {},
   "outputs": [],
   "source": [
    "# reverse, short, copy:"
   ]
  },
  {
   "cell_type": "code",
   "execution_count": 33,
   "id": "4cb625f4",
   "metadata": {},
   "outputs": [
    {
     "data": {
      "text/plain": [
       "[1, 2, 3, 4, 4, 5, 6, 7]"
      ]
     },
     "execution_count": 33,
     "metadata": {},
     "output_type": "execute_result"
    }
   ],
   "source": [
    "list3"
   ]
  },
  {
   "cell_type": "code",
   "execution_count": null,
   "id": "a75dd959",
   "metadata": {},
   "outputs": [],
   "source": []
  },
  {
   "cell_type": "code",
   "execution_count": 34,
   "id": "359abdfb",
   "metadata": {},
   "outputs": [
    {
     "data": {
      "text/plain": [
       "[7, 6, 5, 4, 4, 3, 2, 1]"
      ]
     },
     "execution_count": 34,
     "metadata": {},
     "output_type": "execute_result"
    }
   ],
   "source": [
    "# reverse:\n",
    "list3.reverse()\n",
    "list3"
   ]
  },
  {
   "cell_type": "code",
   "execution_count": null,
   "id": "7df3416f",
   "metadata": {},
   "outputs": [],
   "source": []
  },
  {
   "cell_type": "code",
   "execution_count": 35,
   "id": "54b5582b",
   "metadata": {},
   "outputs": [
    {
     "data": {
      "text/plain": [
       "[1, 2, 3, 4, 4, 5, 6, 7]"
      ]
     },
     "execution_count": 35,
     "metadata": {},
     "output_type": "execute_result"
    }
   ],
   "source": [
    "# sort:\n",
    "# ascending:\n",
    "list3.sort()\n",
    "list3"
   ]
  },
  {
   "cell_type": "code",
   "execution_count": 36,
   "id": "095a740d",
   "metadata": {},
   "outputs": [
    {
     "data": {
      "text/plain": [
       "[7, 6, 5, 4, 4, 3, 2, 1]"
      ]
     },
     "execution_count": 36,
     "metadata": {},
     "output_type": "execute_result"
    }
   ],
   "source": [
    "# decending:\n",
    "list3.sort(reverse=True)\n",
    "list3"
   ]
  },
  {
   "cell_type": "code",
   "execution_count": 37,
   "id": "151f3bcd",
   "metadata": {},
   "outputs": [
    {
     "data": {
      "text/plain": [
       "[7, 6, 5, 4, 4, 3, 2, 1, 'Akshen']"
      ]
     },
     "execution_count": 37,
     "metadata": {},
     "output_type": "execute_result"
    }
   ],
   "source": [
    "list3.append(\"Akshen\")\n",
    "list3"
   ]
  },
  {
   "cell_type": "code",
   "execution_count": 38,
   "id": "89246f8f",
   "metadata": {},
   "outputs": [
    {
     "ename": "TypeError",
     "evalue": "'<' not supported between instances of 'str' and 'int'",
     "output_type": "error",
     "traceback": [
      "\u001b[1;31m---------------------------------------------------------------------------\u001b[0m",
      "\u001b[1;31mTypeError\u001b[0m                                 Traceback (most recent call last)",
      "Cell \u001b[1;32mIn[38], line 1\u001b[0m\n\u001b[1;32m----> 1\u001b[0m list3\u001b[38;5;241m.\u001b[39msort()\n\u001b[0;32m      2\u001b[0m list3\n",
      "\u001b[1;31mTypeError\u001b[0m: '<' not supported between instances of 'str' and 'int'"
     ]
    }
   ],
   "source": [
    "list3.sort()\n",
    "list3 # it should be in 1 data type, different won't workout!"
   ]
  },
  {
   "cell_type": "code",
   "execution_count": null,
   "id": "2047dc24",
   "metadata": {},
   "outputs": [],
   "source": []
  },
  {
   "cell_type": "code",
   "execution_count": 39,
   "id": "3003aa51",
   "metadata": {},
   "outputs": [
    {
     "data": {
      "text/plain": [
       "['Akshen', 'Maher', 'Nalini', 'Rakesh']"
      ]
     },
     "execution_count": 39,
     "metadata": {},
     "output_type": "execute_result"
    }
   ],
   "source": [
    "list7 = [\"Akshen\", \"Maher\", \"Nalini\", \"Rakesh\"]\n",
    "list7"
   ]
  },
  {
   "cell_type": "code",
   "execution_count": 40,
   "id": "f468af79",
   "metadata": {},
   "outputs": [
    {
     "data": {
      "text/plain": [
       "['Akshen', 'Maher', 'Nalini', 'Rakesh']"
      ]
     },
     "execution_count": 40,
     "metadata": {},
     "output_type": "execute_result"
    }
   ],
   "source": [
    "list7.sort()\n",
    "list7"
   ]
  },
  {
   "cell_type": "code",
   "execution_count": null,
   "id": "c3e554c1",
   "metadata": {},
   "outputs": [],
   "source": []
  },
  {
   "cell_type": "code",
   "execution_count": 41,
   "id": "ed4a9799",
   "metadata": {},
   "outputs": [],
   "source": [
    "# copy: helps to save the original value and can work on duplicate values "
   ]
  },
  {
   "cell_type": "code",
   "execution_count": 42,
   "id": "2fe0ef33",
   "metadata": {},
   "outputs": [
    {
     "data": {
      "text/plain": [
       "[1, 2, 3, 4]"
      ]
     },
     "execution_count": 42,
     "metadata": {},
     "output_type": "execute_result"
    }
   ],
   "source": [
    "list5 = list1.copy()\n",
    "list5"
   ]
  },
  {
   "cell_type": "code",
   "execution_count": 43,
   "id": "b69f9a0b",
   "metadata": {},
   "outputs": [
    {
     "name": "stdout",
     "output_type": "stream",
     "text": [
      "[1, 2, 3, 4, 45]\n",
      "[1, 2, 3, 4]\n"
     ]
    }
   ],
   "source": [
    "list1.append(45)\n",
    "print(list1)\n",
    "print(list5)"
   ]
  },
  {
   "cell_type": "code",
   "execution_count": null,
   "id": "2c2ba1c7",
   "metadata": {},
   "outputs": [],
   "source": []
  },
  {
   "cell_type": "markdown",
   "id": "bd3bbe2c",
   "metadata": {},
   "source": [
    "## Tuple"
   ]
  },
  {
   "cell_type": "code",
   "execution_count": 44,
   "id": "b3e40b9d",
   "metadata": {},
   "outputs": [
    {
     "data": {
      "text/plain": [
       "tuple"
      ]
     },
     "execution_count": 44,
     "metadata": {},
     "output_type": "execute_result"
    }
   ],
   "source": [
    "t1=()\n",
    "type(t1)"
   ]
  },
  {
   "cell_type": "code",
   "execution_count": null,
   "id": "7228a99e",
   "metadata": {},
   "outputs": [],
   "source": []
  },
  {
   "cell_type": "code",
   "execution_count": 45,
   "id": "b4f81d9d",
   "metadata": {},
   "outputs": [
    {
     "name": "stdout",
     "output_type": "stream",
     "text": [
      "(10,)\n",
      "<class 'tuple'>\n"
     ]
    }
   ],
   "source": [
    "# a) ways to add:\n",
    "\n",
    "# i) \n",
    "t1=(10,)\n",
    "print(t1)\n",
    "print(type(t1))"
   ]
  },
  {
   "cell_type": "code",
   "execution_count": 46,
   "id": "b946c883",
   "metadata": {},
   "outputs": [
    {
     "name": "stdout",
     "output_type": "stream",
     "text": [
      "(10, 20, 30)\n",
      "<class 'tuple'>\n"
     ]
    }
   ],
   "source": [
    "# ii) \n",
    "t2 = 10, 20, 30\n",
    "print(t2)\n",
    "print(type(t2))"
   ]
  },
  {
   "cell_type": "code",
   "execution_count": null,
   "id": "650c4503",
   "metadata": {},
   "outputs": [],
   "source": []
  },
  {
   "cell_type": "code",
   "execution_count": 47,
   "id": "8df437ba",
   "metadata": {},
   "outputs": [],
   "source": [
    "# b) indexing:"
   ]
  },
  {
   "cell_type": "code",
   "execution_count": 48,
   "id": "4dbefed5",
   "metadata": {},
   "outputs": [
    {
     "data": {
      "text/plain": [
       "(10, 'python', 10.2, True, (10+5j), [10, 20, 30], ('python', 'java'))"
      ]
     },
     "execution_count": 48,
     "metadata": {},
     "output_type": "execute_result"
    }
   ],
   "source": [
    "t3 = (10, \"python\", 10.2, True, 10+5j, [10, 20, 30], (\"python\", \"java\"))\n",
    "t3"
   ]
  },
  {
   "cell_type": "code",
   "execution_count": 49,
   "id": "9a0cd230",
   "metadata": {},
   "outputs": [
    {
     "data": {
      "text/plain": [
       "[10, 20, 30]"
      ]
     },
     "execution_count": 49,
     "metadata": {},
     "output_type": "execute_result"
    }
   ],
   "source": [
    "t3[-2]"
   ]
  },
  {
   "cell_type": "code",
   "execution_count": null,
   "id": "5018e1b1",
   "metadata": {},
   "outputs": [],
   "source": []
  },
  {
   "cell_type": "code",
   "execution_count": 50,
   "id": "df4bf6b6",
   "metadata": {},
   "outputs": [],
   "source": [
    "# c) mutable?"
   ]
  },
  {
   "cell_type": "code",
   "execution_count": 51,
   "id": "a864bf47",
   "metadata": {},
   "outputs": [
    {
     "ename": "TypeError",
     "evalue": "'tuple' object does not support item assignment",
     "output_type": "error",
     "traceback": [
      "\u001b[1;31m---------------------------------------------------------------------------\u001b[0m",
      "\u001b[1;31mTypeError\u001b[0m                                 Traceback (most recent call last)",
      "Cell \u001b[1;32mIn[51], line 1\u001b[0m\n\u001b[1;32m----> 1\u001b[0m t3[\u001b[38;5;241m0\u001b[39m]\u001b[38;5;241m=\u001b[39m\u001b[38;5;241m200\u001b[39m\n",
      "\u001b[1;31mTypeError\u001b[0m: 'tuple' object does not support item assignment"
     ]
    }
   ],
   "source": [
    "t3[0]=200"
   ]
  },
  {
   "cell_type": "code",
   "execution_count": null,
   "id": "3a8c2023",
   "metadata": {},
   "outputs": [],
   "source": []
  },
  {
   "cell_type": "code",
   "execution_count": 52,
   "id": "5d038294",
   "metadata": {},
   "outputs": [],
   "source": [
    "# d) append?"
   ]
  },
  {
   "cell_type": "code",
   "execution_count": 53,
   "id": "6459f111",
   "metadata": {},
   "outputs": [
    {
     "data": {
      "text/plain": [
       "(10, 'python', 10.2, True, (10+5j), [10, 20, 30, 120], ('python', 'java'))"
      ]
     },
     "execution_count": 53,
     "metadata": {},
     "output_type": "execute_result"
    }
   ],
   "source": [
    "t3[-2].append(120)\n",
    "t3"
   ]
  },
  {
   "cell_type": "code",
   "execution_count": null,
   "id": "ff4c5055",
   "metadata": {},
   "outputs": [],
   "source": []
  },
  {
   "cell_type": "code",
   "execution_count": 54,
   "id": "9eaafee2",
   "metadata": {},
   "outputs": [
    {
     "name": "stdout",
     "output_type": "stream",
     "text": [
      "['__add__', '__class__', '__class_getitem__', '__contains__', '__delattr__', '__dir__', '__doc__', '__eq__', '__format__', '__ge__', '__getattribute__', '__getitem__', '__getnewargs__', '__getstate__', '__gt__', '__hash__', '__init__', '__init_subclass__', '__iter__', '__le__', '__len__', '__lt__', '__mul__', '__ne__', '__new__', '__reduce__', '__reduce_ex__', '__repr__', '__rmul__', '__setattr__', '__sizeof__', '__str__', '__subclasshook__', 'count', 'index']\n"
     ]
    }
   ],
   "source": [
    "print(dir(tuple))"
   ]
  },
  {
   "cell_type": "code",
   "execution_count": null,
   "id": "4303de72",
   "metadata": {},
   "outputs": [],
   "source": []
  },
  {
   "cell_type": "code",
   "execution_count": 55,
   "id": "104b4da2",
   "metadata": {},
   "outputs": [
    {
     "name": "stdout",
     "output_type": "stream",
     "text": [
      "(10,)\n",
      "(10, 20, 30)\n",
      "(10, 10, 20, 30)\n",
      "(10, 10)\n"
     ]
    }
   ],
   "source": [
    "# e) repetation via operations (+, *):\n",
    "print(t1)\n",
    "print(t2)\n",
    "\n",
    "print(t1+t2)\n",
    "print(t1*2)"
   ]
  },
  {
   "cell_type": "code",
   "execution_count": null,
   "id": "203558f5",
   "metadata": {},
   "outputs": [],
   "source": []
  },
  {
   "cell_type": "code",
   "execution_count": 56,
   "id": "d8257f64",
   "metadata": {},
   "outputs": [
    {
     "data": {
      "text/plain": [
       "1"
      ]
     },
     "execution_count": 56,
     "metadata": {},
     "output_type": "execute_result"
    }
   ],
   "source": [
    "# f) length:\n",
    "len(t1)"
   ]
  },
  {
   "cell_type": "code",
   "execution_count": 57,
   "id": "2622c2c3",
   "metadata": {},
   "outputs": [
    {
     "name": "stdout",
     "output_type": "stream",
     "text": [
      "[10, 20, 30]\n",
      "(10, 20, 30)\n"
     ]
    }
   ],
   "source": [
    "# g) change data type:\n",
    "\n",
    "# tuple to list:\n",
    "print(list(t2))\n",
    "\n",
    "#list to tuple:\n",
    "print(tuple(t2))"
   ]
  },
  {
   "cell_type": "code",
   "execution_count": 58,
   "id": "de83144a",
   "metadata": {},
   "outputs": [
    {
     "name": "stdout",
     "output_type": "stream",
     "text": [
      "10\n",
      "10\n"
     ]
    }
   ],
   "source": [
    "# h) min, max, sum, sorted:\n",
    "\n",
    "# i) min:\n",
    "print(min(list(t2)))\n",
    "print(min(t2))"
   ]
  },
  {
   "cell_type": "code",
   "execution_count": 59,
   "id": "bd06a1ce",
   "metadata": {},
   "outputs": [
    {
     "name": "stdout",
     "output_type": "stream",
     "text": [
      "30\n",
      "30\n"
     ]
    }
   ],
   "source": [
    "# ii) max:\n",
    "print(max(list(t2)))\n",
    "print(max(t2))"
   ]
  },
  {
   "cell_type": "code",
   "execution_count": 60,
   "id": "a63a1825",
   "metadata": {},
   "outputs": [
    {
     "data": {
      "text/plain": [
       "'y'"
      ]
     },
     "execution_count": 60,
     "metadata": {},
     "output_type": "execute_result"
    }
   ],
   "source": [
    "max('pyhton')"
   ]
  },
  {
   "cell_type": "code",
   "execution_count": 61,
   "id": "2d7fae42",
   "metadata": {},
   "outputs": [
    {
     "name": "stdout",
     "output_type": "stream",
     "text": [
      "60\n",
      "60\n"
     ]
    }
   ],
   "source": [
    "# iii) sum:\n",
    "print(sum(list(t2)))\n",
    "print(sum(t2))"
   ]
  },
  {
   "cell_type": "code",
   "execution_count": 62,
   "id": "97706c97",
   "metadata": {},
   "outputs": [
    {
     "name": "stdout",
     "output_type": "stream",
     "text": [
      "[1, 2, 3]\n"
     ]
    }
   ],
   "source": [
    "# iv) sort (only for list):\n",
    "my_list = [3, 1, 2]\n",
    "my_list.sort()  \n",
    "print(my_list)  "
   ]
  },
  {
   "cell_type": "code",
   "execution_count": 63,
   "id": "57e70151",
   "metadata": {},
   "outputs": [
    {
     "name": "stdout",
     "output_type": "stream",
     "text": [
      "[1, 2, 3]\n",
      "(3, 1, 2)\n"
     ]
    }
   ],
   "source": [
    "#v) sorted (for tuple): \n",
    "# a) returns a new sorted list, \n",
    "# b) doesn’t modify the original iterable.\n",
    "my_tuple = (3, 1, 2)\n",
    "t7 = sorted(my_tuple) \n",
    "print(t7) \n",
    "print(my_tuple)  # Original tuple remains unchanged: (3, 1, 2)"
   ]
  },
  {
   "cell_type": "code",
   "execution_count": 64,
   "id": "3b86c889",
   "metadata": {
    "scrolled": true
   },
   "outputs": [
    {
     "data": {
      "text/plain": [
       "[3, 2, 1]"
      ]
     },
     "execution_count": 64,
     "metadata": {},
     "output_type": "execute_result"
    }
   ],
   "source": [
    "sorted(t7, reverse=True)"
   ]
  },
  {
   "cell_type": "code",
   "execution_count": 65,
   "id": "c76ef9f7",
   "metadata": {},
   "outputs": [
    {
     "data": {
      "text/plain": [
       "['h', 'n', 'o', 'p', 't', 'y']"
      ]
     },
     "execution_count": 65,
     "metadata": {},
     "output_type": "execute_result"
    }
   ],
   "source": [
    "sorted('python')"
   ]
  },
  {
   "cell_type": "code",
   "execution_count": 66,
   "id": "b39d0f18",
   "metadata": {},
   "outputs": [
    {
     "data": {
      "text/plain": [
       "121"
      ]
     },
     "execution_count": 66,
     "metadata": {},
     "output_type": "execute_result"
    }
   ],
   "source": [
    "ord(\"y\")"
   ]
  },
  {
   "cell_type": "code",
   "execution_count": null,
   "id": "d9e4fdbc",
   "metadata": {},
   "outputs": [],
   "source": []
  }
 ],
 "metadata": {
  "kernelspec": {
   "display_name": "Python 3 (ipykernel)",
   "language": "python",
   "name": "python3"
  },
  "language_info": {
   "codemirror_mode": {
    "name": "ipython",
    "version": 3
   },
   "file_extension": ".py",
   "mimetype": "text/x-python",
   "name": "python",
   "nbconvert_exporter": "python",
   "pygments_lexer": "ipython3",
   "version": "3.11.4"
  }
 },
 "nbformat": 4,
 "nbformat_minor": 5
}
