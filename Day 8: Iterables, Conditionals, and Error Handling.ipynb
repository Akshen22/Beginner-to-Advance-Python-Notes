{
 "cells": [
  {
   "cell_type": "markdown",
   "id": "3146596a",
   "metadata": {},
   "source": [
    "## a) Iterable objects:"
   ]
  },
  {
   "cell_type": "code",
   "execution_count": 1,
   "id": "f232b696",
   "metadata": {},
   "outputs": [],
   "source": [
    "# Lists, strings, tuples, dictionaries, and sets that can be looped over and produce elements \n",
    "# one at a time are iterable objects"
   ]
  },
  {
   "cell_type": "code",
   "execution_count": 2,
   "id": "538a36b6",
   "metadata": {},
   "outputs": [
    {
     "name": "stdout",
     "output_type": "stream",
     "text": [
      "1\n",
      "2\n",
      "3\n"
     ]
    }
   ],
   "source": [
    "a = [1, 2, 3]\n",
    "\n",
    "for item in a:\n",
    "    print(item)"
   ]
  },
  {
   "cell_type": "code",
   "execution_count": 3,
   "id": "e9ba4d3f",
   "metadata": {},
   "outputs": [
    {
     "name": "stdout",
     "output_type": "stream",
     "text": [
      "h\n",
      "e\n",
      "l\n",
      "l\n",
      "o\n"
     ]
    }
   ],
   "source": [
    "b = \"hello\"\n",
    "\n",
    "for char in b:\n",
    "    print(char)"
   ]
  },
  {
   "cell_type": "code",
   "execution_count": 4,
   "id": "810fc97a",
   "metadata": {},
   "outputs": [
    {
     "name": "stdout",
     "output_type": "stream",
     "text": [
      "10\n",
      "20\n",
      "30\n"
     ]
    }
   ],
   "source": [
    "c = (10, 20, 30)\n",
    "\n",
    "for item in c:\n",
    "    print(item)"
   ]
  },
  {
   "cell_type": "code",
   "execution_count": 5,
   "id": "e6e88c85",
   "metadata": {},
   "outputs": [
    {
     "name": "stdout",
     "output_type": "stream",
     "text": [
      "a 1\n",
      "b 2\n"
     ]
    }
   ],
   "source": [
    "d = {'a': 1, 'b': 2}\n",
    "\n",
    "for key in d:\n",
    "    print(key, d[key])"
   ]
  },
  {
   "cell_type": "code",
   "execution_count": 6,
   "id": "fb1d7162",
   "metadata": {},
   "outputs": [
    {
     "name": "stdout",
     "output_type": "stream",
     "text": [
      "1\n",
      "2\n",
      "3\n"
     ]
    }
   ],
   "source": [
    "e = {1, 2, 3}\n",
    "\n",
    "for item in e:\n",
    "    print(item)"
   ]
  },
  {
   "cell_type": "code",
   "execution_count": null,
   "id": "75927b04",
   "metadata": {},
   "outputs": [],
   "source": []
  },
  {
   "cell_type": "markdown",
   "id": "9ffebd40",
   "metadata": {},
   "source": [
    "## b) Non-Iterable objects: "
   ]
  },
  {
   "cell_type": "code",
   "execution_count": 7,
   "id": "2d710268",
   "metadata": {},
   "outputs": [],
   "source": [
    "#  Integers and floats cannot be looped over, leading to a TypeError when attempted"
   ]
  },
  {
   "cell_type": "code",
   "execution_count": 8,
   "id": "4b936ed2",
   "metadata": {},
   "outputs": [
    {
     "ename": "TypeError",
     "evalue": "'int' object is not iterable",
     "output_type": "error",
     "traceback": [
      "\u001b[1;31m---------------------------------------------------------------------------\u001b[0m",
      "\u001b[1;31mTypeError\u001b[0m                                 Traceback (most recent call last)",
      "Cell \u001b[1;32mIn[8], line 3\u001b[0m\n\u001b[0;32m      1\u001b[0m num \u001b[38;5;241m=\u001b[39m \u001b[38;5;241m5\u001b[39m\n\u001b[1;32m----> 3\u001b[0m \u001b[38;5;28;01mfor\u001b[39;00m item \u001b[38;5;129;01min\u001b[39;00m num:  \u001b[38;5;66;03m# This will raise a TypeError\u001b[39;00m\n\u001b[0;32m      4\u001b[0m     \u001b[38;5;28mprint\u001b[39m(item)\n",
      "\u001b[1;31mTypeError\u001b[0m: 'int' object is not iterable"
     ]
    }
   ],
   "source": [
    "num = 5\n",
    "\n",
    "for item in num:  # This will raise a TypeError\n",
    "    print(item)"
   ]
  },
  {
   "cell_type": "code",
   "execution_count": 9,
   "id": "d1537e2c",
   "metadata": {},
   "outputs": [
    {
     "ename": "TypeError",
     "evalue": "'float' object is not iterable",
     "output_type": "error",
     "traceback": [
      "\u001b[1;31m---------------------------------------------------------------------------\u001b[0m",
      "\u001b[1;31mTypeError\u001b[0m                                 Traceback (most recent call last)",
      "Cell \u001b[1;32mIn[9], line 3\u001b[0m\n\u001b[0;32m      1\u001b[0m f_num \u001b[38;5;241m=\u001b[39m \u001b[38;5;241m3.14\u001b[39m\n\u001b[1;32m----> 3\u001b[0m \u001b[38;5;28;01mfor\u001b[39;00m item \u001b[38;5;129;01min\u001b[39;00m f_num:  \u001b[38;5;66;03m# This will raise a TypeError\u001b[39;00m\n\u001b[0;32m      4\u001b[0m     \u001b[38;5;28mprint\u001b[39m(item)\n",
      "\u001b[1;31mTypeError\u001b[0m: 'float' object is not iterable"
     ]
    }
   ],
   "source": [
    "f_num = 3.14\n",
    "\n",
    "for item in f_num:  # This will raise a TypeError\n",
    "    print(item)"
   ]
  },
  {
   "cell_type": "code",
   "execution_count": null,
   "id": "a4531420",
   "metadata": {},
   "outputs": [],
   "source": []
  },
  {
   "cell_type": "markdown",
   "id": "4dccd9bc",
   "metadata": {},
   "source": [
    "## c) zip, range, enumerate:"
   ]
  },
  {
   "cell_type": "code",
   "execution_count": 10,
   "id": "8dd4bae6",
   "metadata": {},
   "outputs": [
    {
     "data": {
      "text/plain": [
       "(('Aksh', 4), ('Mahe', 7), ('Rake', 7), ('Nali', 5))"
      ]
     },
     "execution_count": 10,
     "metadata": {},
     "output_type": "execute_result"
    }
   ],
   "source": [
    "# zip (forms 2 iterable elements together):\n",
    "\n",
    "names = [\"Aksh\", \"Mahe\", \"Rake\", \"Nali\"]\n",
    "numbers = [4, 7, 7, 5]\n",
    "tuple(zip(names, numbers))"
   ]
  },
  {
   "cell_type": "code",
   "execution_count": 11,
   "id": "9ed22e9b",
   "metadata": {},
   "outputs": [
    {
     "data": {
      "text/plain": [
       "[('Aksh', 4), ('Mahe', 7), ('Rake', 7), ('Nali', 5)]"
      ]
     },
     "execution_count": 11,
     "metadata": {},
     "output_type": "execute_result"
    }
   ],
   "source": [
    "list(zip(names, numbers))"
   ]
  },
  {
   "cell_type": "code",
   "execution_count": 12,
   "id": "07deea42",
   "metadata": {},
   "outputs": [
    {
     "data": {
      "text/plain": [
       "{'Aksh': 4, 'Mahe': 7, 'Rake': 7, 'Nali': 5}"
      ]
     },
     "execution_count": 12,
     "metadata": {},
     "output_type": "execute_result"
    }
   ],
   "source": [
    "dict(zip(names, numbers))"
   ]
  },
  {
   "cell_type": "code",
   "execution_count": 13,
   "id": "5c6c2216",
   "metadata": {},
   "outputs": [
    {
     "data": {
      "text/plain": [
       "{('Aksh', 4), ('Mahe', 7), ('Nali', 5), ('Rake', 7)}"
      ]
     },
     "execution_count": 13,
     "metadata": {},
     "output_type": "execute_result"
    }
   ],
   "source": [
    "set(zip(names, numbers))"
   ]
  },
  {
   "cell_type": "code",
   "execution_count": null,
   "id": "8d314e0c",
   "metadata": {},
   "outputs": [],
   "source": []
  },
  {
   "cell_type": "code",
   "execution_count": 14,
   "id": "afba6b23",
   "metadata": {},
   "outputs": [
    {
     "data": {
      "text/plain": [
       "[0, 1, 2, 3, 4, 5, 6, 7, 8, 9]"
      ]
     },
     "execution_count": 14,
     "metadata": {},
     "output_type": "execute_result"
    }
   ],
   "source": [
    "# range:\n",
    "\n",
    "list(range(10))"
   ]
  },
  {
   "cell_type": "code",
   "execution_count": 15,
   "id": "23e1ba20",
   "metadata": {},
   "outputs": [
    {
     "data": {
      "text/plain": [
       "{-10, -9, -8, -7, -6, -5, -4, -3, -2, -1, 0, 1, 2, 3, 4, 5, 6, 7, 8, 9}"
      ]
     },
     "execution_count": 15,
     "metadata": {},
     "output_type": "execute_result"
    }
   ],
   "source": [
    "set(range(-10,10))"
   ]
  },
  {
   "cell_type": "code",
   "execution_count": 16,
   "id": "cf0b4b2f",
   "metadata": {},
   "outputs": [
    {
     "data": {
      "text/plain": [
       "(100, 110, 120, 130, 140, 150, 160, 170, 180, 190)"
      ]
     },
     "execution_count": 16,
     "metadata": {},
     "output_type": "execute_result"
    }
   ],
   "source": [
    "tuple(range(100, 200, 10))"
   ]
  },
  {
   "cell_type": "code",
   "execution_count": null,
   "id": "2c712b3d",
   "metadata": {},
   "outputs": [],
   "source": []
  },
  {
   "cell_type": "code",
   "execution_count": 17,
   "id": "504c91c7",
   "metadata": {},
   "outputs": [
    {
     "data": {
      "text/plain": [
       "((0, 'Aksh'), (1, 'Mahe'), (2, 'Rake'), (3, 'Nali'))"
      ]
     },
     "execution_count": 17,
     "metadata": {},
     "output_type": "execute_result"
    }
   ],
   "source": [
    "# enumerate (gives the values with it's index values):\n",
    "\n",
    "tuple(enumerate(names))"
   ]
  },
  {
   "cell_type": "code",
   "execution_count": 18,
   "id": "119307f1",
   "metadata": {},
   "outputs": [
    {
     "data": {
      "text/plain": [
       "[(0, 4), (1, 7), (2, 7), (3, 5)]"
      ]
     },
     "execution_count": 18,
     "metadata": {},
     "output_type": "execute_result"
    }
   ],
   "source": [
    "list(enumerate(numbers))"
   ]
  },
  {
   "cell_type": "code",
   "execution_count": 19,
   "id": "9399e029",
   "metadata": {},
   "outputs": [
    {
     "data": {
      "text/plain": [
       "{(0, 4), (1, 7), (2, 7), (3, 5)}"
      ]
     },
     "execution_count": 19,
     "metadata": {},
     "output_type": "execute_result"
    }
   ],
   "source": [
    "set(enumerate(numbers))"
   ]
  },
  {
   "cell_type": "code",
   "execution_count": 20,
   "id": "36689db6",
   "metadata": {},
   "outputs": [
    {
     "data": {
      "text/plain": [
       "{0: 'Aksh', 1: 'Mahe', 2: 'Rake', 3: 'Nali'}"
      ]
     },
     "execution_count": 20,
     "metadata": {},
     "output_type": "execute_result"
    }
   ],
   "source": [
    "dict(enumerate(names))"
   ]
  },
  {
   "cell_type": "code",
   "execution_count": null,
   "id": "d031a4ba",
   "metadata": {},
   "outputs": [],
   "source": []
  },
  {
   "cell_type": "markdown",
   "id": "abfe7af4",
   "metadata": {},
   "source": [
    "## d) Conditional statements: "
   ]
  },
  {
   "cell_type": "code",
   "execution_count": 21,
   "id": "98e95a86",
   "metadata": {},
   "outputs": [
    {
     "name": "stdout",
     "output_type": "stream",
     "text": [
      "Enter your age: 22\n",
      "Eligible\n",
      "Done!\n"
     ]
    }
   ],
   "source": [
    "# if:\n",
    "\n",
    "age = float(input(\"Enter your age: \"))\n",
    "\n",
    "if age >= 18:\n",
    "    print(\"Eligible\")\n",
    "\n",
    "print(\"Done!\")"
   ]
  },
  {
   "cell_type": "code",
   "execution_count": 22,
   "id": "221a1547",
   "metadata": {},
   "outputs": [
    {
     "name": "stdout",
     "output_type": "stream",
     "text": [
      "Enter your age: 22\n",
      "You are eligible\n",
      "Done!\n"
     ]
    }
   ],
   "source": [
    "# if - else:\n",
    "\n",
    "age = float(input(\"Enter your age: \"))\n",
    "\n",
    "if age >= 18:\n",
    "    print(\"You are eligible\")\n",
    "else:\n",
    "    print(\"You are not eligible\")\n",
    "\n",
    "print(\"Done!\")"
   ]
  },
  {
   "cell_type": "code",
   "execution_count": 23,
   "id": "cf19855d",
   "metadata": {},
   "outputs": [
    {
     "name": "stdout",
     "output_type": "stream",
     "text": [
      "Enter your age: 3\n"
     ]
    },
    {
     "data": {
      "text/plain": [
       "'Not Eligible'"
      ]
     },
     "execution_count": 23,
     "metadata": {},
     "output_type": "execute_result"
    }
   ],
   "source": [
    "# single statement using if - else:\n",
    "\n",
    "age = float(input(\"Enter your age: \"))\n",
    "\"ELigible\" if age >= 18 else \"Not Eligible\""
   ]
  },
  {
   "cell_type": "code",
   "execution_count": 24,
   "id": "feb88f00",
   "metadata": {},
   "outputs": [
    {
     "name": "stdout",
     "output_type": "stream",
     "text": [
      "Enter your age: 56\n",
      "You are eligible\n",
      "Done!\n"
     ]
    }
   ],
   "source": [
    "# if - else & inner if - else inside if, using try - except:\n",
    "\n",
    "age = input(\"Enter your age: \")\n",
    "\n",
    "try:\n",
    "    age = float(age)\n",
    "    \n",
    "    if (age >= 0) and (age <= 120):\n",
    "        \n",
    "        if age >= 18:\n",
    "            print(\"You are eligible\")\n",
    "        else:\n",
    "            print(\"You are not eligible\")\n",
    "            \n",
    "    else:\n",
    "        print(\"Invalid input! Age must be between 0 and 120.\")\n",
    "        \n",
    "except ValueError:\n",
    "    print(\"Invalid input! Please enter a valid number.\")\n",
    "\n",
    "print(\"Done!\")"
   ]
  },
  {
   "cell_type": "code",
   "execution_count": 25,
   "id": "445011f0",
   "metadata": {},
   "outputs": [
    {
     "name": "stdout",
     "output_type": "stream",
     "text": [
      "You are eligible\n",
      "You are not eligible\n",
      "You are eligible\n",
      "You are eligible\n",
      "Invalid input!\n",
      "Done!\n"
     ]
    }
   ],
   "source": [
    "# if - else using for:\n",
    "\n",
    "ages = [19, 4, 24, 80, \"Akshsen\"]\n",
    "\n",
    "for age in ages:\n",
    "    \n",
    "    if isinstance(age, (int, float)):\n",
    "        \n",
    "        if (age > 0) and (age <= 120):\n",
    "            \n",
    "            if age >= 18:\n",
    "                print(\"You are eligible\")\n",
    "            else:\n",
    "                print(\"You are not eligible\")\n",
    "                \n",
    "    else:\n",
    "        print(\"Invalid input!\")\n",
    "        \n",
    "print(\"Done!\")"
   ]
  },
  {
   "cell_type": "code",
   "execution_count": 26,
   "id": "22a9de87",
   "metadata": {},
   "outputs": [
    {
     "name": "stdout",
     "output_type": "stream",
     "text": [
      "Enter your age: 14\n",
      "Not eligible\n",
      "Done!\n"
     ]
    }
   ],
   "source": [
    "# if - elif - else\n",
    "\n",
    "age  = input(\"Enter your age: \")\n",
    "\n",
    "try:\n",
    "    age = float(age)\n",
    "    \n",
    "    if (age < 0) or (age > 120):\n",
    "        print(\"Invalid\")\n",
    "        \n",
    "    elif (age >= 18):\n",
    "        print(\"Eligible\")\n",
    "        \n",
    "    else:\n",
    "        print(\"Not eligible\")\n",
    "        \n",
    "except ValueError:\n",
    "    print(\"The given input isn't a number\")\n",
    "\n",
    "print(\"Done!\")"
   ]
  },
  {
   "cell_type": "code",
   "execution_count": 27,
   "id": "d3702547",
   "metadata": {},
   "outputs": [
    {
     "name": "stdout",
     "output_type": "stream",
     "text": [
      "Enter you age: A\n",
      "Invalid input, not a number!\n",
      "Done!\n"
     ]
    }
   ],
   "source": [
    "# if - elif - else:\n",
    "\n",
    "age = input(\"Enter you age: \")\n",
    "\n",
    "try:\n",
    "    age = float(age)\n",
    "    \n",
    "    if (age < 0):\n",
    "        print(\"Invalid\")\n",
    "        \n",
    "    elif (age > 120):\n",
    "        print(\"Invalid\")\n",
    "        \n",
    "    elif (age >= 18):\n",
    "        print(\"Eligible\")\n",
    "        \n",
    "    else:\n",
    "        print(\"Invalid input!\")\n",
    "\n",
    "except ValueError:\n",
    "    print(\"Invalid input, not a number!\")\n",
    "    \n",
    "print(\"Done!\")"
   ]
  },
  {
   "cell_type": "code",
   "execution_count": 28,
   "id": "f1d24f9e",
   "metadata": {},
   "outputs": [
    {
     "name": "stdout",
     "output_type": "stream",
     "text": [
      "You are not eligible\n",
      "You are not eligible\n",
      "You are eligible\n",
      "Invalid input! Not a number\n",
      "You are eligible\n",
      "Done!\n"
     ]
    }
   ],
   "source": [
    "# for, if - elif - else:\n",
    "\n",
    "ages = [1, 4, 43, \"Akshen\", 60.8]\n",
    "\n",
    "for age in ages:\n",
    "    \n",
    "    if isinstance(age, (int, float)):\n",
    "        \n",
    "        if (age < 0): \n",
    "            print(\"Invalid\")\n",
    "        \n",
    "        elif (age > 120):\n",
    "            print(\"Invalid\")\n",
    "        \n",
    "        elif (age >= 18):\n",
    "            print(\"You are eligible\")\n",
    "            \n",
    "        else:\n",
    "            print(\"You are not eligible\")\n",
    "        \n",
    "    else:\n",
    "        print(\"Invalid input! Not a number\")\n",
    "        \n",
    "print(\"Done!\")"
   ]
  },
  {
   "cell_type": "code",
   "execution_count": null,
   "id": "d58d1f82",
   "metadata": {},
   "outputs": [],
   "source": []
  }
 ],
 "metadata": {
  "kernelspec": {
   "display_name": "Python 3 (ipykernel)",
   "language": "python",
   "name": "python3"
  },
  "language_info": {
   "codemirror_mode": {
    "name": "ipython",
    "version": 3
   },
   "file_extension": ".py",
   "mimetype": "text/x-python",
   "name": "python",
   "nbconvert_exporter": "python",
   "pygments_lexer": "ipython3",
   "version": "3.11.4"
  }
 },
 "nbformat": 4,
 "nbformat_minor": 5
}
