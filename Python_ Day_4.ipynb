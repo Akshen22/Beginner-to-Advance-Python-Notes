{
 "cells": [
  {
   "cell_type": "code",
   "execution_count": 1,
   "id": "5dad94c4",
   "metadata": {},
   "outputs": [
    {
     "data": {
      "text/plain": [
       "'python'"
      ]
     },
     "execution_count": 1,
     "metadata": {},
     "output_type": "execute_result"
    }
   ],
   "source": [
    "s = \"python\"\n",
    "s"
   ]
  },
  {
   "cell_type": "code",
   "execution_count": 2,
   "id": "79872799",
   "metadata": {},
   "outputs": [
    {
     "data": {
      "text/plain": [
       "'p'"
      ]
     },
     "execution_count": 2,
     "metadata": {},
     "output_type": "execute_result"
    }
   ],
   "source": [
    "# a) indexing:\n",
    "#syntax: string_variable_name[index_number]\n",
    "s[0]"
   ]
  },
  {
   "cell_type": "code",
   "execution_count": 3,
   "id": "48b8329a",
   "metadata": {},
   "outputs": [
    {
     "data": {
      "text/plain": [
       "'p'"
      ]
     },
     "execution_count": 3,
     "metadata": {},
     "output_type": "execute_result"
    }
   ],
   "source": [
    "s[-6]"
   ]
  },
  {
   "cell_type": "code",
   "execution_count": null,
   "id": "01d1cce6",
   "metadata": {},
   "outputs": [],
   "source": []
  },
  {
   "cell_type": "code",
   "execution_count": 4,
   "id": "ad2fa3cf",
   "metadata": {},
   "outputs": [
    {
     "data": {
      "text/plain": [
       "'pyt'"
      ]
     },
     "execution_count": 4,
     "metadata": {},
     "output_type": "execute_result"
    }
   ],
   "source": [
    "# b) slicing:\n",
    "#syntax: string_variable_name[start_index : end_index]\n",
    "s[0:3]"
   ]
  },
  {
   "cell_type": "code",
   "execution_count": 5,
   "id": "6c8d59c8",
   "metadata": {},
   "outputs": [
    {
     "data": {
      "text/plain": [
       "'py'"
      ]
     },
     "execution_count": 5,
     "metadata": {},
     "output_type": "execute_result"
    }
   ],
   "source": [
    "s[-6:-4]"
   ]
  },
  {
   "cell_type": "code",
   "execution_count": 6,
   "id": "7e5af742",
   "metadata": {},
   "outputs": [
    {
     "data": {
      "text/plain": [
       "'py'"
      ]
     },
     "execution_count": 6,
     "metadata": {},
     "output_type": "execute_result"
    }
   ],
   "source": [
    "s[-6:2]"
   ]
  },
  {
   "cell_type": "code",
   "execution_count": 7,
   "id": "acf696ad",
   "metadata": {},
   "outputs": [
    {
     "data": {
      "text/plain": [
       "'py'"
      ]
     },
     "execution_count": 7,
     "metadata": {},
     "output_type": "execute_result"
    }
   ],
   "source": [
    "s[0 : -4]"
   ]
  },
  {
   "cell_type": "code",
   "execution_count": 8,
   "id": "bfe6b8bd",
   "metadata": {},
   "outputs": [
    {
     "data": {
      "text/plain": [
       "'py'"
      ]
     },
     "execution_count": 8,
     "metadata": {},
     "output_type": "execute_result"
    }
   ],
   "source": [
    "s[ : -4]"
   ]
  },
  {
   "cell_type": "code",
   "execution_count": 9,
   "id": "09ba8ea1",
   "metadata": {},
   "outputs": [
    {
     "data": {
      "text/plain": [
       "'ython'"
      ]
     },
     "execution_count": 9,
     "metadata": {},
     "output_type": "execute_result"
    }
   ],
   "source": [
    "s[1 : ]"
   ]
  },
  {
   "cell_type": "code",
   "execution_count": 10,
   "id": "7888ea50",
   "metadata": {},
   "outputs": [
    {
     "data": {
      "text/plain": [
       "'python'"
      ]
     },
     "execution_count": 10,
     "metadata": {},
     "output_type": "execute_result"
    }
   ],
   "source": [
    "s[  : ]"
   ]
  },
  {
   "cell_type": "code",
   "execution_count": null,
   "id": "a3e0e0fe",
   "metadata": {},
   "outputs": [],
   "source": []
  },
  {
   "cell_type": "code",
   "execution_count": 11,
   "id": "04388f5b",
   "metadata": {},
   "outputs": [],
   "source": [
    "# practise"
   ]
  },
  {
   "cell_type": "code",
   "execution_count": 12,
   "id": "a5c89aa4",
   "metadata": {},
   "outputs": [],
   "source": [
    "s1 = \"Akshen Dhami\""
   ]
  },
  {
   "cell_type": "code",
   "execution_count": 13,
   "id": "a38ecd75",
   "metadata": {},
   "outputs": [
    {
     "data": {
      "text/plain": [
       "'Akshen'"
      ]
     },
     "execution_count": 13,
     "metadata": {},
     "output_type": "execute_result"
    }
   ],
   "source": [
    "s1[0:6]"
   ]
  },
  {
   "cell_type": "code",
   "execution_count": 14,
   "id": "567a89a5",
   "metadata": {},
   "outputs": [
    {
     "data": {
      "text/plain": [
       "'Akshen'"
      ]
     },
     "execution_count": 14,
     "metadata": {},
     "output_type": "execute_result"
    }
   ],
   "source": [
    "s1[-13:-6]"
   ]
  },
  {
   "cell_type": "code",
   "execution_count": 15,
   "id": "983c987c",
   "metadata": {},
   "outputs": [
    {
     "data": {
      "text/plain": [
       "'Akshen'"
      ]
     },
     "execution_count": 15,
     "metadata": {},
     "output_type": "execute_result"
    }
   ],
   "source": [
    "s1[:6]"
   ]
  },
  {
   "cell_type": "code",
   "execution_count": 16,
   "id": "816b6326",
   "metadata": {},
   "outputs": [
    {
     "data": {
      "text/plain": [
       "'Akshen'"
      ]
     },
     "execution_count": 16,
     "metadata": {},
     "output_type": "execute_result"
    }
   ],
   "source": [
    "s1[:-6]"
   ]
  },
  {
   "cell_type": "code",
   "execution_count": 17,
   "id": "96842055",
   "metadata": {},
   "outputs": [
    {
     "data": {
      "text/plain": [
       "'Akshen'"
      ]
     },
     "execution_count": 17,
     "metadata": {},
     "output_type": "execute_result"
    }
   ],
   "source": [
    "s1[0:-6]"
   ]
  },
  {
   "cell_type": "code",
   "execution_count": 18,
   "id": "c0b261c8",
   "metadata": {},
   "outputs": [
    {
     "data": {
      "text/plain": [
       "'Akshen'"
      ]
     },
     "execution_count": 18,
     "metadata": {},
     "output_type": "execute_result"
    }
   ],
   "source": [
    "s1[-13:6]"
   ]
  },
  {
   "cell_type": "code",
   "execution_count": 19,
   "id": "1f707e7a",
   "metadata": {},
   "outputs": [
    {
     "data": {
      "text/plain": [
       "'Ah'"
      ]
     },
     "execution_count": 19,
     "metadata": {},
     "output_type": "execute_result"
    }
   ],
   "source": [
    "s1[0:4:3] #skipping middle character"
   ]
  },
  {
   "cell_type": "code",
   "execution_count": 20,
   "id": "940e9bbd",
   "metadata": {},
   "outputs": [
    {
     "ename": "TypeError",
     "evalue": "'str' object does not support item assignment",
     "output_type": "error",
     "traceback": [
      "\u001b[1;31m---------------------------------------------------------------------------\u001b[0m",
      "\u001b[1;31mTypeError\u001b[0m                                 Traceback (most recent call last)",
      "Cell \u001b[1;32mIn[20], line 1\u001b[0m\n\u001b[1;32m----> 1\u001b[0m s1[\u001b[38;5;241m0\u001b[39m]\u001b[38;5;241m=\u001b[39m\u001b[38;5;124m'\u001b[39m\u001b[38;5;124mK\u001b[39m\u001b[38;5;124m'\u001b[39m\n",
      "\u001b[1;31mTypeError\u001b[0m: 'str' object does not support item assignment"
     ]
    }
   ],
   "source": [
    "s1[0]='K'\n",
    "# c) string is immutable, cannot be changed"
   ]
  },
  {
   "cell_type": "code",
   "execution_count": null,
   "id": "7277b84f",
   "metadata": {},
   "outputs": [],
   "source": []
  },
  {
   "cell_type": "code",
   "execution_count": 21,
   "id": "5532db84",
   "metadata": {},
   "outputs": [
    {
     "name": "stdout",
     "output_type": "stream",
     "text": [
      "['__add__', '__class__', '__contains__', '__delattr__', '__dir__', '__doc__', '__eq__', '__format__', '__ge__', '__getattribute__', '__getitem__', '__getnewargs__', '__getstate__', '__gt__', '__hash__', '__init__', '__init_subclass__', '__iter__', '__le__', '__len__', '__lt__', '__mod__', '__mul__', '__ne__', '__new__', '__reduce__', '__reduce_ex__', '__repr__', '__rmod__', '__rmul__', '__setattr__', '__sizeof__', '__str__', '__subclasshook__', 'capitalize', 'casefold', 'center', 'count', 'encode', 'endswith', 'expandtabs', 'find', 'format', 'format_map', 'index', 'isalnum', 'isalpha', 'isascii', 'isdecimal', 'isdigit', 'isidentifier', 'islower', 'isnumeric', 'isprintable', 'isspace', 'istitle', 'isupper', 'join', 'ljust', 'lower', 'lstrip', 'maketrans', 'partition', 'removeprefix', 'removesuffix', 'replace', 'rfind', 'rindex', 'rjust', 'rpartition', 'rsplit', 'rstrip', 'split', 'splitlines', 'startswith', 'strip', 'swapcase', 'title', 'translate', 'upper', 'zfill']\n"
     ]
    }
   ],
   "source": [
    "# c) string directory (functions we can perform on strings):\n",
    "\n",
    "print(dir(str))"
   ]
  },
  {
   "cell_type": "code",
   "execution_count": 22,
   "id": "4dcfa696",
   "metadata": {},
   "outputs": [
    {
     "name": "stdout",
     "output_type": "stream",
     "text": [
      "Help on method_descriptor:\n",
      "\n",
      "isidentifier(self, /)\n",
      "    Return True if the string is a valid Python identifier, False otherwise.\n",
      "    \n",
      "    Call keyword.iskeyword(s) to test whether string s is a reserved identifier,\n",
      "    such as \"def\" or \"class\".\n",
      "\n"
     ]
    }
   ],
   "source": [
    "help(str.isidentifier) #explains what does a specific function perform"
   ]
  },
  {
   "cell_type": "code",
   "execution_count": null,
   "id": "2764e78c",
   "metadata": {},
   "outputs": [],
   "source": []
  },
  {
   "cell_type": "code",
   "execution_count": 23,
   "id": "8c3c1444",
   "metadata": {},
   "outputs": [],
   "source": [
    "# d) common string methods"
   ]
  },
  {
   "cell_type": "code",
   "execution_count": 24,
   "id": "b69618e3",
   "metadata": {},
   "outputs": [
    {
     "name": "stdout",
     "output_type": "stream",
     "text": [
      "Akshen dhami\n",
      "akshen dhami\n",
      "****Akshen Dhami****\n",
      "2\n",
      "b'Akshen Dhami'\n",
      "True\n"
     ]
    }
   ],
   "source": [
    "A=s1.capitalize()\n",
    "print(A)\n",
    "\n",
    "B=s1.casefold()\n",
    "print(B)\n",
    "\n",
    "C=s1.center(20, '*')\n",
    "print(C)\n",
    "\n",
    "D=s1.count(\"h\")\n",
    "print(D)\n",
    "\n",
    "E=s1.encode() #converts the string into a bytes object using UTF-8 encoding\n",
    "print(E)\n",
    "#Use Cases:\n",
    "#Data Transmission: When sending text data over a network, you often need to encode it to ensure that it is transmitted correctly as binary data.\n",
    "#File I/O: When writing to a binary file, you may need to encode the string to ensure it is stored correctly.\n",
    "\n",
    "F=s1.endswith(\"i\")\n",
    "print(F)"
   ]
  },
  {
   "cell_type": "code",
   "execution_count": 25,
   "id": "81f49502",
   "metadata": {},
   "outputs": [
    {
     "name": "stdout",
     "output_type": "stream",
     "text": [
      "Akshen  Dhami\n",
      "9\n",
      "Akshen Dhami\n",
      "1\n",
      "False\n",
      "False\n"
     ]
    }
   ],
   "source": [
    "s2=\"Akshen\\tDhami\"\n",
    "G=s2.expandtabs(2)\n",
    "print(G) #expands by 2, wherever there's \\t\n",
    "\n",
    "H=s1.find(\"ami\")\n",
    "print(H)\n",
    "\n",
    "s3=\"Akshen {surname}\"\n",
    "I=s3.format_map({\"surname\":\"Dhami\"})\n",
    "print(I)\n",
    "\n",
    "J=s1.index(\"k\")\n",
    "print(J)\n",
    "\n",
    "K=s1.isalnum()\n",
    "print(K)\n",
    "\n",
    "L=s1.isalpha()\n",
    "print(L)"
   ]
  },
  {
   "cell_type": "code",
   "execution_count": 26,
   "id": "893f6740",
   "metadata": {},
   "outputs": [
    {
     "name": "stdout",
     "output_type": "stream",
     "text": [
      "True\n",
      "False\n",
      "False\n",
      "False\n",
      "False\n",
      "False\n"
     ]
    }
   ],
   "source": [
    "M=s1.isascii()\n",
    "print(M)\n",
    "\n",
    "N=s1.isdecimal()\n",
    "print(N)\n",
    "\n",
    "O=s1.isdigit()\n",
    "print(O)\n",
    "\n",
    "P=s1.isidentifier()\n",
    "print(P) #not if it's: digit, has space, a python keyword\n",
    "\n",
    "Q=s1.islower()\n",
    "print(Q)\n",
    "\n",
    "R=s1.isnumeric()\n",
    "print(R)"
   ]
  },
  {
   "cell_type": "code",
   "execution_count": 27,
   "id": "64e71876",
   "metadata": {},
   "outputs": [
    {
     "name": "stdout",
     "output_type": "stream",
     "text": [
      "True\n",
      "False\n",
      "True\n",
      "False\n",
      "Hello Akshen Dhami,are you good?\n",
      "akshen dhami\n"
     ]
    }
   ],
   "source": [
    "S=s1.isprintable() \n",
    "print(S) #shouldn't have newline or tab\n",
    "\n",
    "T=s1.isspace()\n",
    "print(T)\n",
    "#True only if the string consists entirely of whitespace characters (spaces, tabs, newlines) and contains at least 1 character.\n",
    "\n",
    "U=s1.istitle()\n",
    "print(U)\n",
    "#True if the first character of each word is uppercase & the rest words are lowercase.\n",
    "\n",
    "V=s1.isupper()\n",
    "print(V)\n",
    "\n",
    "W=s1.join([\"Hello \", \",are you good?\"])\n",
    "print(W)\n",
    "\n",
    "X=s1.lower()\n",
    "print(X)"
   ]
  },
  {
   "cell_type": "code",
   "execution_count": 28,
   "id": "165ae5ec",
   "metadata": {},
   "outputs": [
    {
     "name": "stdout",
     "output_type": "stream",
     "text": [
      "Akshen Dhami        \n",
      "        Akshen Dhami\n",
      "Akshen Dhami\n",
      "Akshen Dhami\n",
      "Akshen Dhami\n",
      "akshen Dhami\n"
     ]
    }
   ],
   "source": [
    "Y=s1.ljust(20)\n",
    "print(Y)\n",
    "#spaces to the right, making the total length of the string 20\n",
    "#The print output won't visibly show the spaces\n",
    "\n",
    "Z=s1.rjust(20) #spaces to the left, making the total length 20 characters\n",
    "print(Z)\n",
    "\n",
    "a=s1.strip()\n",
    "print(a) #removes both leading and trailing whitespace\n",
    "\n",
    "b=s1.lstrip()\n",
    "print(b) #here it's leading\n",
    "\n",
    "c=s1.rstrip()\n",
    "print(c) #here it's trailing\n",
    "\n",
    "d=str.maketrans('A', 'a')\n",
    "e=s1.translate(d)\n",
    "print(e)"
   ]
  },
  {
   "cell_type": "code",
   "execution_count": 29,
   "id": "6a89b29e",
   "metadata": {},
   "outputs": [
    {
     "name": "stdout",
     "output_type": "stream",
     "text": [
      "('Aks', 'h', 'en Dhami')\n",
      "shen Dhami\n",
      "Akshen Dha\n",
      "akshen Dhami\n",
      "8\n",
      "8\n"
     ]
    }
   ],
   "source": [
    "f=s1.partition(\"h\")\n",
    "print(f)\n",
    "\n",
    "g=s1.removeprefix(\"Ak\")\n",
    "print(g)\n",
    "\n",
    "h=s1.removesuffix(\"mi\")\n",
    "print(h)\n",
    "\n",
    "i=s1.replace(\"Akshen\", \"akshen\")\n",
    "print(i)\n",
    "\n",
    "j=s1.rfind(\"h\")\n",
    "print(j) #as find finds only 1 that too from the left!\n",
    "\n",
    "k=s1.rindex(\"h\")\n",
    "print(k) #similarly, rindex is required!"
   ]
  },
  {
   "cell_type": "code",
   "execution_count": 30,
   "id": "e17345cd",
   "metadata": {},
   "outputs": [
    {
     "name": "stdout",
     "output_type": "stream",
     "text": [
      "('Akshen Dha', 'm', 'i')\n",
      "['Akshen', 'Dhami']\n",
      "['Akshen Dh', '']\n",
      "['Great Learning', 'Welcome to the course!', 'Enjoy your journey.']\n",
      "False\n",
      "aKSHEN dHAMI\n"
     ]
    }
   ],
   "source": [
    "l=s1.rpartition(\"m\")\n",
    "print(l) #does from right\n",
    "\n",
    "m=s1.split(\" \")\n",
    "print(m)\n",
    "\n",
    "n=s1.rsplit(\"ami\")\n",
    "print(n)\n",
    "\n",
    "s4=\"Great Learning\\nWelcome to the course!\\nEnjoy your journey.\"\n",
    "o=s4.splitlines()\n",
    "print(o)\n",
    "\n",
    "p=s4.startswith(\"course\")\n",
    "print(p) #gives wheater it is true or false!\n",
    "\n",
    "q=s1.swapcase()\n",
    "print(q)"
   ]
  },
  {
   "cell_type": "code",
   "execution_count": 31,
   "id": "140f87c1",
   "metadata": {},
   "outputs": [
    {
     "name": "stdout",
     "output_type": "stream",
     "text": [
      "Akshen Dhami\n",
      "AKSHEN DHAMI\n",
      "00000000Akshen Dhami\n",
      "Hello, my name is Akshen and I am 24 years old.\n"
     ]
    }
   ],
   "source": [
    "r=s1.title()\n",
    "print(r)\n",
    "\n",
    "t=s1.upper()\n",
    "print(t)\n",
    "\n",
    "u=s1.zfill(20)\n",
    "print(u)\n",
    "\n",
    "name = \"Akshen\"\n",
    "age = 24\n",
    "greeting = \"Hello, my name is {} and I am {} years old.\".format(name, age)\n",
    "print(greeting)"
   ]
  },
  {
   "cell_type": "code",
   "execution_count": null,
   "id": "d183dcef",
   "metadata": {},
   "outputs": [],
   "source": []
  },
  {
   "cell_type": "code",
   "execution_count": 32,
   "id": "f168e834",
   "metadata": {},
   "outputs": [],
   "source": [
    "# e) special string methods"
   ]
  },
  {
   "cell_type": "code",
   "execution_count": null,
   "id": "a7fa01e7",
   "metadata": {},
   "outputs": [],
   "source": []
  },
  {
   "cell_type": "code",
   "execution_count": null,
   "id": "235cf3c7",
   "metadata": {},
   "outputs": [],
   "source": []
  },
  {
   "cell_type": "code",
   "execution_count": null,
   "id": "b47d35ee",
   "metadata": {},
   "outputs": [],
   "source": []
  },
  {
   "cell_type": "code",
   "execution_count": null,
   "id": "436866be",
   "metadata": {},
   "outputs": [],
   "source": []
  },
  {
   "cell_type": "code",
   "execution_count": null,
   "id": "de8fbf87",
   "metadata": {},
   "outputs": [],
   "source": []
  },
  {
   "cell_type": "code",
   "execution_count": null,
   "id": "74e4bdf4",
   "metadata": {},
   "outputs": [],
   "source": []
  },
  {
   "cell_type": "code",
   "execution_count": null,
   "id": "a9939615",
   "metadata": {},
   "outputs": [],
   "source": []
  },
  {
   "cell_type": "code",
   "execution_count": null,
   "id": "4fb8f958",
   "metadata": {},
   "outputs": [],
   "source": []
  }
 ],
 "metadata": {
  "kernelspec": {
   "display_name": "Python 3 (ipykernel)",
   "language": "python",
   "name": "python3"
  },
  "language_info": {
   "codemirror_mode": {
    "name": "ipython",
    "version": 3
   },
   "file_extension": ".py",
   "mimetype": "text/x-python",
   "name": "python",
   "nbconvert_exporter": "python",
   "pygments_lexer": "ipython3",
   "version": "3.11.4"
  }
 },
 "nbformat": 4,
 "nbformat_minor": 5
}
