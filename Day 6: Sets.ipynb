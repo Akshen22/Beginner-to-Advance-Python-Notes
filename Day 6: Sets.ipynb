{
 "cells": [
  {
   "cell_type": "markdown",
   "id": "9303595f",
   "metadata": {},
   "source": [
    "## Set "
   ]
  },
  {
   "cell_type": "code",
   "execution_count": 1,
   "id": "09bd4ed5",
   "metadata": {},
   "outputs": [
    {
     "data": {
      "text/plain": [
       "dict"
      ]
     },
     "execution_count": 1,
     "metadata": {},
     "output_type": "execute_result"
    }
   ],
   "source": [
    "s={}\n",
    "type(s)            #❌ "
   ]
  },
  {
   "cell_type": "code",
   "execution_count": 2,
   "id": "bd0a0a2b",
   "metadata": {},
   "outputs": [
    {
     "name": "stdout",
     "output_type": "stream",
     "text": [
      "<class 'set'>\n",
      "set() \n",
      "\n",
      "<class 'set'>\n",
      "{16}\n"
     ]
    }
   ],
   "source": [
    "s=set()\n",
    "print(type(s))\n",
    "print(s, '\\n')     #✅\n",
    "\n",
    "a={16}\n",
    "print(type(a))\n",
    "print(a)           #✅"
   ]
  },
  {
   "cell_type": "code",
   "execution_count": 3,
   "id": "1781238c",
   "metadata": {},
   "outputs": [
    {
     "data": {
      "text/plain": [
       "{(10+5j), 10, 10.5, 'python'}"
      ]
     },
     "execution_count": 3,
     "metadata": {},
     "output_type": "execute_result"
    }
   ],
   "source": [
    "# set is in unordered format:\n",
    "\n",
    "s={'python', 10, 10.5, 10+5j}\n",
    "s                   "
   ]
  },
  {
   "cell_type": "code",
   "execution_count": 4,
   "id": "22a516da",
   "metadata": {},
   "outputs": [
    {
     "ename": "TypeError",
     "evalue": "'set' object is not subscriptable",
     "output_type": "error",
     "traceback": [
      "\u001b[1;31m---------------------------------------------------------------------------\u001b[0m",
      "\u001b[1;31mTypeError\u001b[0m                                 Traceback (most recent call last)",
      "Cell \u001b[1;32mIn[4], line 3\u001b[0m\n\u001b[0;32m      1\u001b[0m \u001b[38;5;66;03m# couldn't do indexing nor slicing:\u001b[39;00m\n\u001b[1;32m----> 3\u001b[0m s[\u001b[38;5;241m0\u001b[39m]\n",
      "\u001b[1;31mTypeError\u001b[0m: 'set' object is not subscriptable"
     ]
    }
   ],
   "source": [
    "# couldn't do indexing nor slicing:\n",
    "\n",
    "s[0]                #❌"
   ]
  },
  {
   "cell_type": "code",
   "execution_count": 5,
   "id": "4c66f250",
   "metadata": {},
   "outputs": [
    {
     "ename": "TypeError",
     "evalue": "'set' object does not support item assignment",
     "output_type": "error",
     "traceback": [
      "\u001b[1;31m---------------------------------------------------------------------------\u001b[0m",
      "\u001b[1;31mTypeError\u001b[0m                                 Traceback (most recent call last)",
      "Cell \u001b[1;32mIn[5], line 3\u001b[0m\n\u001b[0;32m      1\u001b[0m \u001b[38;5;66;03m# immutable:\u001b[39;00m\n\u001b[1;32m----> 3\u001b[0m s[\u001b[38;5;241m0\u001b[39m]\u001b[38;5;241m=\u001b[39m\u001b[38;5;241m4\u001b[39m\n",
      "\u001b[1;31mTypeError\u001b[0m: 'set' object does not support item assignment"
     ]
    }
   ],
   "source": [
    "# immutable:\n",
    "\n",
    "s[0]=4              #❌"
   ]
  },
  {
   "cell_type": "code",
   "execution_count": 6,
   "id": "c22ee6c2",
   "metadata": {},
   "outputs": [
    {
     "data": {
      "text/plain": [
       "{10, 20, 40, 'c', 'c++', 'java', 'python'}"
      ]
     },
     "execution_count": 6,
     "metadata": {},
     "output_type": "execute_result"
    }
   ],
   "source": [
    "# no duplicate:\n",
    "\n",
    "s1 = {\"python\", 10, 20, 10, \"java\", \"c\", \"c++\", 40, \"python\"}\n",
    "s1                  #❌"
   ]
  },
  {
   "cell_type": "code",
   "execution_count": null,
   "id": "8bb1d68f",
   "metadata": {},
   "outputs": [],
   "source": []
  },
  {
   "cell_type": "code",
   "execution_count": 7,
   "id": "cda715b6",
   "metadata": {},
   "outputs": [
    {
     "name": "stdout",
     "output_type": "stream",
     "text": [
      "['__and__', '__class__', '__class_getitem__', '__contains__', '__delattr__', '__dir__', '__doc__', '__eq__', '__format__', '__ge__', '__getattribute__', '__getstate__', '__gt__', '__hash__', '__iand__', '__init__', '__init_subclass__', '__ior__', '__isub__', '__iter__', '__ixor__', '__le__', '__len__', '__lt__', '__ne__', '__new__', '__or__', '__rand__', '__reduce__', '__reduce_ex__', '__repr__', '__ror__', '__rsub__', '__rxor__', '__setattr__', '__sizeof__', '__str__', '__sub__', '__subclasshook__', '__xor__', 'add', 'clear', 'copy', 'difference', 'difference_update', 'discard', 'intersection', 'intersection_update', 'isdisjoint', 'issubset', 'issuperset', 'pop', 'remove', 'symmetric_difference', 'symmetric_difference_update', 'union', 'update']\n"
     ]
    }
   ],
   "source": [
    "print(dir(set))"
   ]
  },
  {
   "cell_type": "code",
   "execution_count": 8,
   "id": "2f6928ff",
   "metadata": {},
   "outputs": [],
   "source": [
    "# difference & difference_update:"
   ]
  },
  {
   "cell_type": "code",
   "execution_count": 9,
   "id": "64291d25",
   "metadata": {},
   "outputs": [],
   "source": [
    "A = {10,20,30,5}\n",
    "B = {20,30, 80}\n",
    "C = {1,2,3,15}\n",
    "D = {10,5}"
   ]
  },
  {
   "cell_type": "code",
   "execution_count": 10,
   "id": "c0746d67",
   "metadata": {
    "scrolled": true
   },
   "outputs": [
    {
     "data": {
      "text/plain": [
       "{5, 10}"
      ]
     },
     "execution_count": 10,
     "metadata": {},
     "output_type": "execute_result"
    }
   ],
   "source": [
    "A.difference(B) #values absent in A are listed"
   ]
  },
  {
   "cell_type": "code",
   "execution_count": 11,
   "id": "e2d828e2",
   "metadata": {},
   "outputs": [],
   "source": [
    "A.difference_update(B) #the uncommon values of A are saved in A"
   ]
  },
  {
   "cell_type": "code",
   "execution_count": 12,
   "id": "692274e9",
   "metadata": {},
   "outputs": [
    {
     "data": {
      "text/plain": [
       "{5, 10}"
      ]
     },
     "execution_count": 12,
     "metadata": {},
     "output_type": "execute_result"
    }
   ],
   "source": [
    "A"
   ]
  },
  {
   "cell_type": "code",
   "execution_count": null,
   "id": "5551fa61",
   "metadata": {},
   "outputs": [],
   "source": []
  },
  {
   "cell_type": "code",
   "execution_count": 13,
   "id": "73407361",
   "metadata": {},
   "outputs": [],
   "source": [
    "# intersection & intersection_update:"
   ]
  },
  {
   "cell_type": "code",
   "execution_count": 14,
   "id": "012d3f6d",
   "metadata": {},
   "outputs": [],
   "source": [
    "A = {10,20,30,5}\n",
    "B = {20,30, 80}\n",
    "C = {1,2,3,15}\n",
    "D = {10,5}"
   ]
  },
  {
   "cell_type": "code",
   "execution_count": 15,
   "id": "6ab22479",
   "metadata": {},
   "outputs": [
    {
     "data": {
      "text/plain": [
       "{20, 30}"
      ]
     },
     "execution_count": 15,
     "metadata": {},
     "output_type": "execute_result"
    }
   ],
   "source": [
    "A.intersection(B) #common values"
   ]
  },
  {
   "cell_type": "code",
   "execution_count": 16,
   "id": "7784f52d",
   "metadata": {},
   "outputs": [],
   "source": [
    "A.intersection_update(B) #the coomon values are saved in A"
   ]
  },
  {
   "cell_type": "code",
   "execution_count": 17,
   "id": "7bcc35fe",
   "metadata": {},
   "outputs": [
    {
     "data": {
      "text/plain": [
       "{20, 30}"
      ]
     },
     "execution_count": 17,
     "metadata": {},
     "output_type": "execute_result"
    }
   ],
   "source": [
    "A"
   ]
  },
  {
   "cell_type": "code",
   "execution_count": null,
   "id": "bf5d9e31",
   "metadata": {},
   "outputs": [],
   "source": []
  },
  {
   "cell_type": "code",
   "execution_count": 18,
   "id": "d1b212ef",
   "metadata": {},
   "outputs": [],
   "source": [
    "# symmetric_difference & symmetric_difference_update:"
   ]
  },
  {
   "cell_type": "code",
   "execution_count": 19,
   "id": "48df6a4b",
   "metadata": {},
   "outputs": [],
   "source": [
    "A = {10,20,30,5}\n",
    "B = {20,30, 80}\n",
    "C = {1,2,3,15}\n",
    "D = {10,5}"
   ]
  },
  {
   "cell_type": "code",
   "execution_count": 20,
   "id": "5b29df32",
   "metadata": {},
   "outputs": [
    {
     "data": {
      "text/plain": [
       "{5, 10, 80}"
      ]
     },
     "execution_count": 20,
     "metadata": {},
     "output_type": "execute_result"
    }
   ],
   "source": [
    "A.symmetric_difference(B) #all the uncommon values from A & B"
   ]
  },
  {
   "cell_type": "code",
   "execution_count": 21,
   "id": "5fd86197",
   "metadata": {},
   "outputs": [],
   "source": [
    "A.symmetric_difference_update(B) #saved in A"
   ]
  },
  {
   "cell_type": "code",
   "execution_count": 22,
   "id": "58fe4d0e",
   "metadata": {},
   "outputs": [
    {
     "data": {
      "text/plain": [
       "{5, 10, 80}"
      ]
     },
     "execution_count": 22,
     "metadata": {},
     "output_type": "execute_result"
    }
   ],
   "source": [
    "A"
   ]
  },
  {
   "cell_type": "code",
   "execution_count": null,
   "id": "d52f03fb",
   "metadata": {},
   "outputs": [],
   "source": []
  },
  {
   "cell_type": "code",
   "execution_count": 23,
   "id": "fffd9751",
   "metadata": {},
   "outputs": [],
   "source": [
    "# isdisjoint(), issubset(), issuperset(), union()"
   ]
  },
  {
   "cell_type": "code",
   "execution_count": 24,
   "id": "19dbdd5c",
   "metadata": {},
   "outputs": [],
   "source": [
    "A = {10,20,30,5}\n",
    "B = {20,30, 80}\n",
    "C = {1,2,3,15}\n",
    "D = {10,5}"
   ]
  },
  {
   "cell_type": "code",
   "execution_count": 25,
   "id": "16cb07ff",
   "metadata": {},
   "outputs": [
    {
     "data": {
      "text/plain": [
       "True"
      ]
     },
     "execution_count": 25,
     "metadata": {},
     "output_type": "execute_result"
    }
   ],
   "source": [
    "# isdisjoint():\n",
    "# i) checks if two sets have no elements in common\n",
    "# ii) TRUE if there are no common elements, FALSE if there are.\n",
    "\n",
    "A.isdisjoint(C)"
   ]
  },
  {
   "cell_type": "code",
   "execution_count": 26,
   "id": "0e052270",
   "metadata": {},
   "outputs": [
    {
     "data": {
      "text/plain": [
       "False"
      ]
     },
     "execution_count": 26,
     "metadata": {},
     "output_type": "execute_result"
    }
   ],
   "source": [
    "A.isdisjoint(B)"
   ]
  },
  {
   "cell_type": "code",
   "execution_count": null,
   "id": "2314917c",
   "metadata": {},
   "outputs": [],
   "source": []
  },
  {
   "cell_type": "code",
   "execution_count": 27,
   "id": "32cd485b",
   "metadata": {},
   "outputs": [],
   "source": [
    "# issubset():\n",
    "# i) checks if all elements of one set are contained within another set\n",
    "# ii) TRUE if the set is a subset, FALSE otherwise\n",
    "\n",
    "A = {10,20,30,5}\n",
    "B = {20,30, 80}\n",
    "C = {1,2,3,15}\n",
    "D = {10,5}"
   ]
  },
  {
   "cell_type": "code",
   "execution_count": 28,
   "id": "24382916",
   "metadata": {},
   "outputs": [
    {
     "data": {
      "text/plain": [
       "False"
      ]
     },
     "execution_count": 28,
     "metadata": {},
     "output_type": "execute_result"
    }
   ],
   "source": [
    "A.issubset(C)"
   ]
  },
  {
   "cell_type": "code",
   "execution_count": 29,
   "id": "ac8797d6",
   "metadata": {},
   "outputs": [
    {
     "data": {
      "text/plain": [
       "True"
      ]
     },
     "execution_count": 29,
     "metadata": {},
     "output_type": "execute_result"
    }
   ],
   "source": [
    "D.issubset(A)"
   ]
  },
  {
   "cell_type": "code",
   "execution_count": null,
   "id": "32752cdd",
   "metadata": {},
   "outputs": [],
   "source": []
  },
  {
   "cell_type": "code",
   "execution_count": 30,
   "id": "c4b3d46a",
   "metadata": {},
   "outputs": [],
   "source": [
    "# issuperset():\n",
    "# i) checks if 1 set contains all elements of another set (i.e., is a superset)\n",
    "# ii) TRUE if the set is a superset, FALSE otherwise \n",
    "\n",
    "A = {10,20,30,5}\n",
    "B = {20,30, 80}\n",
    "C = {1,2,3,15}\n",
    "D = {10,5}"
   ]
  },
  {
   "cell_type": "code",
   "execution_count": 31,
   "id": "c1c763f8",
   "metadata": {},
   "outputs": [
    {
     "data": {
      "text/plain": [
       "True"
      ]
     },
     "execution_count": 31,
     "metadata": {},
     "output_type": "execute_result"
    }
   ],
   "source": [
    "A.issuperset(D)"
   ]
  },
  {
   "cell_type": "code",
   "execution_count": 32,
   "id": "7dc17acf",
   "metadata": {},
   "outputs": [
    {
     "data": {
      "text/plain": [
       "False"
      ]
     },
     "execution_count": 32,
     "metadata": {},
     "output_type": "execute_result"
    }
   ],
   "source": [
    "B.issuperset(C)"
   ]
  },
  {
   "cell_type": "code",
   "execution_count": null,
   "id": "539386d6",
   "metadata": {},
   "outputs": [],
   "source": []
  },
  {
   "cell_type": "code",
   "execution_count": 33,
   "id": "e8b7bdd4",
   "metadata": {},
   "outputs": [],
   "source": [
    "# union:\n",
    "# i) returns a new set that contains all elements from the original sets, without duplicates\n",
    "# ii) a new set that is the union of two or more sets\n",
    "\n",
    "A = {10,20,30,5}\n",
    "B = {20,30, 80}\n",
    "C = {1,2,3,15}\n",
    "D = {10,5}"
   ]
  },
  {
   "cell_type": "code",
   "execution_count": 34,
   "id": "c3a1d291",
   "metadata": {},
   "outputs": [
    {
     "data": {
      "text/plain": [
       "{5, 10, 20, 30, 80}"
      ]
     },
     "execution_count": 34,
     "metadata": {},
     "output_type": "execute_result"
    }
   ],
   "source": [
    "A.union(B)"
   ]
  },
  {
   "cell_type": "code",
   "execution_count": 35,
   "id": "8380324d",
   "metadata": {},
   "outputs": [
    {
     "data": {
      "text/plain": [
       "{1, 2, 3, 5, 10, 15, 20, 30, 80}"
      ]
     },
     "execution_count": 35,
     "metadata": {},
     "output_type": "execute_result"
    }
   ],
   "source": [
    "A.union(B, C)"
   ]
  },
  {
   "cell_type": "code",
   "execution_count": null,
   "id": "150d7160",
   "metadata": {},
   "outputs": [],
   "source": []
  },
  {
   "cell_type": "code",
   "execution_count": 36,
   "id": "de278836",
   "metadata": {},
   "outputs": [],
   "source": [
    "# clear:"
   ]
  },
  {
   "cell_type": "code",
   "execution_count": 37,
   "id": "fc3bc418",
   "metadata": {},
   "outputs": [
    {
     "name": "stdout",
     "output_type": "stream",
     "text": [
      "set()\n"
     ]
    }
   ],
   "source": [
    "D.clear()\n",
    "print(D)"
   ]
  },
  {
   "cell_type": "code",
   "execution_count": null,
   "id": "2f2b1ab7",
   "metadata": {},
   "outputs": [],
   "source": []
  },
  {
   "cell_type": "code",
   "execution_count": 38,
   "id": "830ab882",
   "metadata": {},
   "outputs": [],
   "source": [
    "# copy:"
   ]
  },
  {
   "cell_type": "code",
   "execution_count": 39,
   "id": "85c69ca0",
   "metadata": {},
   "outputs": [
    {
     "data": {
      "text/plain": [
       "{1, 2, 3, 15}"
      ]
     },
     "execution_count": 39,
     "metadata": {},
     "output_type": "execute_result"
    }
   ],
   "source": [
    "E = C.copy()\n",
    "E"
   ]
  },
  {
   "cell_type": "code",
   "execution_count": 40,
   "id": "93170892",
   "metadata": {},
   "outputs": [
    {
     "data": {
      "text/plain": [
       "{1, 2, 3, 15}"
      ]
     },
     "execution_count": 40,
     "metadata": {},
     "output_type": "execute_result"
    }
   ],
   "source": [
    "C"
   ]
  },
  {
   "cell_type": "code",
   "execution_count": 41,
   "id": "a213ff72",
   "metadata": {},
   "outputs": [
    {
     "data": {
      "text/plain": [
       "{20, 30, 80}"
      ]
     },
     "execution_count": 41,
     "metadata": {},
     "output_type": "execute_result"
    }
   ],
   "source": [
    "B"
   ]
  },
  {
   "cell_type": "code",
   "execution_count": 42,
   "id": "9866e74f",
   "metadata": {},
   "outputs": [
    {
     "data": {
      "text/plain": [
       "{1, 2, 3, 15, 20, 30, 80}"
      ]
     },
     "execution_count": 42,
     "metadata": {},
     "output_type": "execute_result"
    }
   ],
   "source": [
    "E.symmetric_difference(B)"
   ]
  },
  {
   "cell_type": "code",
   "execution_count": 43,
   "id": "8c46a4e2",
   "metadata": {},
   "outputs": [],
   "source": [
    "E.symmetric_difference_update(B)"
   ]
  },
  {
   "cell_type": "code",
   "execution_count": 44,
   "id": "4dd62bc8",
   "metadata": {},
   "outputs": [
    {
     "data": {
      "text/plain": [
       "{1, 2, 3, 15, 20, 30, 80}"
      ]
     },
     "execution_count": 44,
     "metadata": {},
     "output_type": "execute_result"
    }
   ],
   "source": [
    "E"
   ]
  },
  {
   "cell_type": "code",
   "execution_count": null,
   "id": "b98f1c74",
   "metadata": {},
   "outputs": [],
   "source": []
  },
  {
   "cell_type": "code",
   "execution_count": 45,
   "id": "7287e1c9",
   "metadata": {},
   "outputs": [
    {
     "data": {
      "text/plain": [
       "{5, 10, 20, 30}"
      ]
     },
     "execution_count": 45,
     "metadata": {},
     "output_type": "execute_result"
    }
   ],
   "source": [
    "# add, update\n",
    "\n",
    "A"
   ]
  },
  {
   "cell_type": "code",
   "execution_count": 46,
   "id": "f3ecbb18",
   "metadata": {},
   "outputs": [],
   "source": [
    "# add (adds single value):"
   ]
  },
  {
   "cell_type": "code",
   "execution_count": 47,
   "id": "432323da",
   "metadata": {},
   "outputs": [],
   "source": [
    "A.add(100)"
   ]
  },
  {
   "cell_type": "code",
   "execution_count": 48,
   "id": "c9eb942f",
   "metadata": {},
   "outputs": [
    {
     "data": {
      "text/plain": [
       "{5, 10, 20, 30, 100}"
      ]
     },
     "execution_count": 48,
     "metadata": {},
     "output_type": "execute_result"
    }
   ],
   "source": [
    "A"
   ]
  },
  {
   "cell_type": "code",
   "execution_count": null,
   "id": "4a514e71",
   "metadata": {},
   "outputs": [],
   "source": []
  },
  {
   "cell_type": "code",
   "execution_count": 49,
   "id": "14e1735f",
   "metadata": {},
   "outputs": [],
   "source": [
    "# update (adds multiple elements, except numerical values & so add in list):"
   ]
  },
  {
   "cell_type": "code",
   "execution_count": 50,
   "id": "36c9d543",
   "metadata": {},
   "outputs": [],
   "source": [
    "A.update([2,5,1], {\"Akshen\"}, \"Dhami\")"
   ]
  },
  {
   "cell_type": "code",
   "execution_count": 51,
   "id": "72e3bb45",
   "metadata": {},
   "outputs": [
    {
     "data": {
      "text/plain": [
       "{1, 10, 100, 2, 20, 30, 5, 'Akshen', 'D', 'a', 'h', 'i', 'm'}"
      ]
     },
     "execution_count": 51,
     "metadata": {},
     "output_type": "execute_result"
    }
   ],
   "source": [
    "A"
   ]
  },
  {
   "cell_type": "code",
   "execution_count": null,
   "id": "155f1fb0",
   "metadata": {},
   "outputs": [],
   "source": []
  },
  {
   "cell_type": "code",
   "execution_count": 52,
   "id": "b70b7974",
   "metadata": {},
   "outputs": [
    {
     "data": {
      "text/plain": [
       "{1, 10, 100, 2, 20, 30, 5, 'Akshen', 'D', 'a', 'h', 'i', 'm'}"
      ]
     },
     "execution_count": 52,
     "metadata": {},
     "output_type": "execute_result"
    }
   ],
   "source": [
    "# remove, discard, pop\n",
    "\n",
    "A"
   ]
  },
  {
   "cell_type": "code",
   "execution_count": 53,
   "id": "3a4a6735",
   "metadata": {},
   "outputs": [],
   "source": [
    "# remove:\n",
    "# i)  removes a specific element from the set \n",
    "# ii) raises a KeyError if the element is not found in the set\n",
    "\n",
    "A.remove(100)"
   ]
  },
  {
   "cell_type": "code",
   "execution_count": 54,
   "id": "b394cb6f",
   "metadata": {},
   "outputs": [
    {
     "data": {
      "text/plain": [
       "{1, 10, 2, 20, 30, 5, 'Akshen', 'D', 'a', 'h', 'i', 'm'}"
      ]
     },
     "execution_count": 54,
     "metadata": {},
     "output_type": "execute_result"
    }
   ],
   "source": [
    "A"
   ]
  },
  {
   "cell_type": "code",
   "execution_count": null,
   "id": "ada18b45",
   "metadata": {},
   "outputs": [],
   "source": []
  },
  {
   "cell_type": "code",
   "execution_count": 55,
   "id": "0b272484",
   "metadata": {},
   "outputs": [],
   "source": [
    "# discard:\n",
    "# i) removes a specific element from the set\n",
    "# ii) does not raise an error if the element is not found\n",
    "\n",
    "A.discard(100)"
   ]
  },
  {
   "cell_type": "code",
   "execution_count": 56,
   "id": "f4827b00",
   "metadata": {},
   "outputs": [
    {
     "data": {
      "text/plain": [
       "{1, 10, 2, 20, 30, 5, 'Akshen', 'D', 'a', 'h', 'i', 'm'}"
      ]
     },
     "execution_count": 56,
     "metadata": {},
     "output_type": "execute_result"
    }
   ],
   "source": [
    "A"
   ]
  },
  {
   "cell_type": "code",
   "execution_count": null,
   "id": "9a4e7137",
   "metadata": {},
   "outputs": [],
   "source": []
  },
  {
   "cell_type": "code",
   "execution_count": 57,
   "id": "8ddd082a",
   "metadata": {},
   "outputs": [
    {
     "data": {
      "text/plain": [
       "1"
      ]
     },
     "execution_count": 57,
     "metadata": {},
     "output_type": "execute_result"
    }
   ],
   "source": [
    "# pop:\n",
    "# i) removes and returns a random (or arbitrary) element from the set\n",
    "# ii) raises a KeyError if the set is empty\n",
    "\n",
    "A.pop()"
   ]
  },
  {
   "cell_type": "code",
   "execution_count": 58,
   "id": "ef414b25",
   "metadata": {},
   "outputs": [
    {
     "data": {
      "text/plain": [
       "{10, 2, 20, 30, 5, 'Akshen', 'D', 'a', 'h', 'i', 'm'}"
      ]
     },
     "execution_count": 58,
     "metadata": {},
     "output_type": "execute_result"
    }
   ],
   "source": [
    "A"
   ]
  },
  {
   "cell_type": "code",
   "execution_count": 59,
   "id": "221056df",
   "metadata": {},
   "outputs": [],
   "source": [
    "A.clear()"
   ]
  },
  {
   "cell_type": "code",
   "execution_count": 60,
   "id": "e2c25259",
   "metadata": {},
   "outputs": [
    {
     "data": {
      "text/plain": [
       "set()"
      ]
     },
     "execution_count": 60,
     "metadata": {},
     "output_type": "execute_result"
    }
   ],
   "source": [
    "A"
   ]
  },
  {
   "cell_type": "code",
   "execution_count": 61,
   "id": "acda22bb",
   "metadata": {},
   "outputs": [
    {
     "ename": "KeyError",
     "evalue": "'pop from an empty set'",
     "output_type": "error",
     "traceback": [
      "\u001b[1;31m---------------------------------------------------------------------------\u001b[0m",
      "\u001b[1;31mKeyError\u001b[0m                                  Traceback (most recent call last)",
      "Cell \u001b[1;32mIn[61], line 1\u001b[0m\n\u001b[1;32m----> 1\u001b[0m A\u001b[38;5;241m.\u001b[39mpop()\n",
      "\u001b[1;31mKeyError\u001b[0m: 'pop from an empty set'"
     ]
    }
   ],
   "source": [
    "A.pop()"
   ]
  },
  {
   "cell_type": "code",
   "execution_count": null,
   "id": "22478fa6",
   "metadata": {},
   "outputs": [],
   "source": []
  }
 ],
 "metadata": {
  "kernelspec": {
   "display_name": "Python 3 (ipykernel)",
   "language": "python",
   "name": "python3"
  },
  "language_info": {
   "codemirror_mode": {
    "name": "ipython",
    "version": 3
   },
   "file_extension": ".py",
   "mimetype": "text/x-python",
   "name": "python",
   "nbconvert_exporter": "python",
   "pygments_lexer": "ipython3",
   "version": "3.11.4"
  }
 },
 "nbformat": 4,
 "nbformat_minor": 5
}
