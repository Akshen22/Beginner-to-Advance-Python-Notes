{
 "cells": [
  {
   "cell_type": "markdown",
   "id": "17e7f0c2",
   "metadata": {},
   "source": [
    "## Dictionary"
   ]
  },
  {
   "cell_type": "code",
   "execution_count": 1,
   "id": "c35708c7",
   "metadata": {},
   "outputs": [
    {
     "name": "stdout",
     "output_type": "stream",
     "text": [
      "{}\n",
      "<class 'dict'>\n"
     ]
    }
   ],
   "source": [
    "# a) syntac:\n",
    "\n",
    "d = {}\n",
    "print(d)\n",
    "print(type(d))        #✅"
   ]
  },
  {
   "cell_type": "code",
   "execution_count": null,
   "id": "cf7719f5",
   "metadata": {},
   "outputs": [],
   "source": []
  },
  {
   "cell_type": "code",
   "execution_count": 2,
   "id": "50ec527c",
   "metadata": {},
   "outputs": [
    {
     "data": {
      "text/plain": [
       "{'A': 10, 'B': 20, 'C': 20}"
      ]
     },
     "execution_count": 2,
     "metadata": {},
     "output_type": "execute_result"
    }
   ],
   "source": [
    "# b) keys and values:\n",
    "\n",
    "d = {\"A\":10, \"B\":20, \"C\":20}\n",
    "d"
   ]
  },
  {
   "cell_type": "code",
   "execution_count": null,
   "id": "97b4e457",
   "metadata": {},
   "outputs": [],
   "source": []
  },
  {
   "cell_type": "code",
   "execution_count": 3,
   "id": "b6419932",
   "metadata": {},
   "outputs": [
    {
     "data": {
      "text/plain": [
       "{101.1: 45, 102: 25, '103': 10j}"
      ]
     },
     "execution_count": 3,
     "metadata": {},
     "output_type": "execute_result"
    }
   ],
   "source": [
    "# c) no repeatation:\n",
    "\n",
    "d = {101.1:45, 102:25, \"103\":10j, \"103\":10j}\n",
    "d"
   ]
  },
  {
   "cell_type": "code",
   "execution_count": null,
   "id": "2e0ba7de",
   "metadata": {},
   "outputs": [],
   "source": []
  },
  {
   "cell_type": "code",
   "execution_count": 4,
   "id": "9d619c48",
   "metadata": {},
   "outputs": [
    {
     "data": {
      "text/plain": [
       "{'Batch': 'Aug23',\n",
       " 'Student': {'S1', 'S2', 'S3'},\n",
       " 'Started': True,\n",
       " 'Marks': {'ITP': [45, 23, 33], 'NPV': [34, 35, 36]}}"
      ]
     },
     "execution_count": 4,
     "metadata": {},
     "output_type": "execute_result"
    }
   ],
   "source": [
    "d = {\"Batch\" : \"Aug23\",\n",
    "    \"Student\" : {\"S1\",\"S2\", \"S3\"},\n",
    "     \"Started\" : True,\n",
    "     \"Marks\" : {\"ITP\" : [45,23,33], \"NPV\" : [34, 35,36] }\n",
    "    }\n",
    "d"
   ]
  },
  {
   "cell_type": "code",
   "execution_count": 5,
   "id": "c00c7d6f",
   "metadata": {},
   "outputs": [
    {
     "data": {
      "text/plain": [
       "'Aug23'"
      ]
     },
     "execution_count": 5,
     "metadata": {},
     "output_type": "execute_result"
    }
   ],
   "source": [
    "# d) accessing values:\n",
    "\n",
    "d[\"Batch\"]"
   ]
  },
  {
   "cell_type": "code",
   "execution_count": 6,
   "id": "afec4cf4",
   "metadata": {},
   "outputs": [
    {
     "data": {
      "text/plain": [
       "{'S1', 'S2', 'S3'}"
      ]
     },
     "execution_count": 6,
     "metadata": {},
     "output_type": "execute_result"
    }
   ],
   "source": [
    "d[\"Student\"]"
   ]
  },
  {
   "cell_type": "code",
   "execution_count": null,
   "id": "9019e114",
   "metadata": {},
   "outputs": [],
   "source": []
  },
  {
   "cell_type": "code",
   "execution_count": 7,
   "id": "a798f5ff",
   "metadata": {},
   "outputs": [
    {
     "data": {
      "text/plain": [
       "{'Batch': 'Aug23',\n",
       " 'Student': {'S1', 'S2', 'S3'},\n",
       " 'Started': True,\n",
       " 'Marks': {'ITP': [45, 23, 33], 'NPV': [34, 35, 36]},\n",
       " 'Location': 'MUM'}"
      ]
     },
     "execution_count": 7,
     "metadata": {},
     "output_type": "execute_result"
    }
   ],
   "source": [
    "# e) adding:\n",
    "\n",
    "d[\"Location\"] = \"MUM\"\n",
    "d"
   ]
  },
  {
   "cell_type": "code",
   "execution_count": 8,
   "id": "101ca871",
   "metadata": {},
   "outputs": [
    {
     "data": {
      "text/plain": [
       "{'Batch': 'Aug23',\n",
       " 'Student': {'S1', 'S2', 'S3'},\n",
       " 'Started': True,\n",
       " 'Marks': {'ITP': [70, 23, 33], 'NPV': [34, 35, 36]},\n",
       " 'Location': 'MUM'}"
      ]
     },
     "execution_count": 8,
     "metadata": {},
     "output_type": "execute_result"
    }
   ],
   "source": [
    "# f) modifying:\n",
    "\n",
    "d[\"Marks\"][\"ITP\"][0]=70\n",
    "d"
   ]
  },
  {
   "cell_type": "code",
   "execution_count": 9,
   "id": "5b97f194",
   "metadata": {},
   "outputs": [
    {
     "data": {
      "text/plain": [
       "{'Batch': 'Aug23',\n",
       " 'Student': {'S1', 'S2', 'S3'},\n",
       " 'Started': True,\n",
       " 'Marks': {'ITP': [75, 23, 33], 'NPV': [34, 35, 36]},\n",
       " 'Location': 'MUM'}"
      ]
     },
     "execution_count": 9,
     "metadata": {},
     "output_type": "execute_result"
    }
   ],
   "source": [
    "# g) increment:\n",
    "\n",
    "d[\"Marks\"][\"ITP\"][0]+=5\n",
    "d"
   ]
  },
  {
   "cell_type": "code",
   "execution_count": null,
   "id": "bbf753b4",
   "metadata": {},
   "outputs": [],
   "source": []
  },
  {
   "cell_type": "code",
   "execution_count": 10,
   "id": "446031ed",
   "metadata": {},
   "outputs": [
    {
     "name": "stdout",
     "output_type": "stream",
     "text": [
      "['__class__', '__class_getitem__', '__contains__', '__delattr__', '__delitem__', '__dir__', '__doc__', '__eq__', '__format__', '__ge__', '__getattribute__', '__getitem__', '__getstate__', '__gt__', '__hash__', '__init__', '__init_subclass__', '__ior__', '__iter__', '__le__', '__len__', '__lt__', '__ne__', '__new__', '__or__', '__reduce__', '__reduce_ex__', '__repr__', '__reversed__', '__ror__', '__setattr__', '__setitem__', '__sizeof__', '__str__', '__subclasshook__', 'clear', 'copy', 'fromkeys', 'get', 'items', 'keys', 'pop', 'popitem', 'setdefault', 'update', 'values']\n"
     ]
    }
   ],
   "source": [
    "print(dir(dict))"
   ]
  },
  {
   "cell_type": "code",
   "execution_count": null,
   "id": "238aa85e",
   "metadata": {},
   "outputs": [],
   "source": []
  },
  {
   "cell_type": "code",
   "execution_count": 11,
   "id": "bdf71a87",
   "metadata": {},
   "outputs": [
    {
     "data": {
      "text/plain": [
       "dict_keys(['Batch', 'Student', 'Started', 'Marks', 'Location'])"
      ]
     },
     "execution_count": 11,
     "metadata": {},
     "output_type": "execute_result"
    }
   ],
   "source": [
    "# h) keys, values & items:\n",
    "\n",
    "d.keys()"
   ]
  },
  {
   "cell_type": "code",
   "execution_count": 12,
   "id": "02151bf9",
   "metadata": {},
   "outputs": [
    {
     "data": {
      "text/plain": [
       "dict_values(['Aug23', {'S2', 'S3', 'S1'}, True, {'ITP': [75, 23, 33], 'NPV': [34, 35, 36]}, 'MUM'])"
      ]
     },
     "execution_count": 12,
     "metadata": {},
     "output_type": "execute_result"
    }
   ],
   "source": [
    "d.values()"
   ]
  },
  {
   "cell_type": "code",
   "execution_count": 13,
   "id": "43aa0ed9",
   "metadata": {},
   "outputs": [
    {
     "data": {
      "text/plain": [
       "dict_items([('Batch', 'Aug23'), ('Student', {'S2', 'S3', 'S1'}), ('Started', True), ('Marks', {'ITP': [75, 23, 33], 'NPV': [34, 35, 36]}), ('Location', 'MUM')])"
      ]
     },
     "execution_count": 13,
     "metadata": {},
     "output_type": "execute_result"
    }
   ],
   "source": [
    "d.items()"
   ]
  },
  {
   "cell_type": "code",
   "execution_count": null,
   "id": "dc388be1",
   "metadata": {},
   "outputs": [],
   "source": []
  },
  {
   "cell_type": "code",
   "execution_count": 14,
   "id": "e76b8734",
   "metadata": {},
   "outputs": [],
   "source": [
    "# i)"
   ]
  },
  {
   "cell_type": "code",
   "execution_count": 15,
   "id": "3e692213",
   "metadata": {},
   "outputs": [
    {
     "data": {
      "text/plain": [
       "'MUM'"
      ]
     },
     "execution_count": 15,
     "metadata": {},
     "output_type": "execute_result"
    }
   ],
   "source": [
    "d[\"Location\"]"
   ]
  },
  {
   "cell_type": "code",
   "execution_count": 16,
   "id": "5640facd",
   "metadata": {},
   "outputs": [
    {
     "ename": "KeyError",
     "evalue": "'Program_manager'",
     "output_type": "error",
     "traceback": [
      "\u001b[1;31m---------------------------------------------------------------------------\u001b[0m",
      "\u001b[1;31mKeyError\u001b[0m                                  Traceback (most recent call last)",
      "Cell \u001b[1;32mIn[16], line 1\u001b[0m\n\u001b[1;32m----> 1\u001b[0m d[\u001b[38;5;124m\"\u001b[39m\u001b[38;5;124mProgram_manager\u001b[39m\u001b[38;5;124m\"\u001b[39m]\n",
      "\u001b[1;31mKeyError\u001b[0m: 'Program_manager'"
     ]
    }
   ],
   "source": [
    "d[\"Program_manager\"] #gets an error as there's no key called Program_manager!"
   ]
  },
  {
   "cell_type": "code",
   "execution_count": 17,
   "id": "a7638617",
   "metadata": {},
   "outputs": [],
   "source": [
    "d.get(\"Program_manager\") #use \"get\" to not get an error!"
   ]
  },
  {
   "cell_type": "code",
   "execution_count": null,
   "id": "113c96a2",
   "metadata": {},
   "outputs": [],
   "source": []
  },
  {
   "cell_type": "code",
   "execution_count": 18,
   "id": "671c61ff",
   "metadata": {},
   "outputs": [],
   "source": [
    "# j) add / update / modify:"
   ]
  },
  {
   "cell_type": "code",
   "execution_count": 19,
   "id": "2e3d9626",
   "metadata": {},
   "outputs": [
    {
     "data": {
      "text/plain": [
       "{'Batch': 'Aug23',\n",
       " 'Student': {'S1', 'S2', 'S3'},\n",
       " 'Started': True,\n",
       " 'Marks': {'ITP': [75, 23, 33], 'NPV': [34, 35, 36]},\n",
       " 'Location': 'MUM'}"
      ]
     },
     "execution_count": 19,
     "metadata": {},
     "output_type": "execute_result"
    }
   ],
   "source": [
    "d"
   ]
  },
  {
   "cell_type": "code",
   "execution_count": 20,
   "id": "76e12446",
   "metadata": {},
   "outputs": [
    {
     "data": {
      "text/plain": [
       "{'Batch': 'Jan25',\n",
       " 'Student': {'S1', 'S2', 'S3'},\n",
       " 'Started': True,\n",
       " 'Marks': {'ITP': [75, 23, 33], 'NPV': [34, 35, 36]},\n",
       " 'Location': 'MUM'}"
      ]
     },
     "execution_count": 20,
     "metadata": {},
     "output_type": "execute_result"
    }
   ],
   "source": [
    "d[\"Batch\"] = \"Jan25\"\n",
    "d # add once at a time!"
   ]
  },
  {
   "cell_type": "code",
   "execution_count": 21,
   "id": "9d1e49d8",
   "metadata": {},
   "outputs": [
    {
     "data": {
      "text/plain": [
       "{'Batch': 'Sep24',\n",
       " 'Student': {'S1', 'S2', 'S3'},\n",
       " 'Started': True,\n",
       " 'Marks': {'ITP': [75, 23, 33], 'NPV': [34, 35, 36]},\n",
       " 'Location': 'MUM',\n",
       " 'Count': 36,\n",
       " 'PM': 'Akshen'}"
      ]
     },
     "execution_count": 21,
     "metadata": {},
     "output_type": "execute_result"
    }
   ],
   "source": [
    "# adding multiple values:\n",
    "\n",
    "d.update({\"Batch\":\"Sep24\", \"Count\":36, \"PM\":\"Akshen\"})\n",
    "d"
   ]
  },
  {
   "cell_type": "code",
   "execution_count": null,
   "id": "68a02bde",
   "metadata": {},
   "outputs": [],
   "source": []
  },
  {
   "cell_type": "code",
   "execution_count": 22,
   "id": "21724ea6",
   "metadata": {},
   "outputs": [],
   "source": [
    "# k) setdefault:"
   ]
  },
  {
   "cell_type": "code",
   "execution_count": 23,
   "id": "ad8d689a",
   "metadata": {},
   "outputs": [
    {
     "data": {
      "text/plain": [
       "{'Batch': 'Sep24',\n",
       " 'Student': {'S1', 'S2', 'S3'},\n",
       " 'Started': True,\n",
       " 'Marks': {'ITP': [75, 23, 33], 'NPV': [34, 35, 36]},\n",
       " 'Location': 'MUM',\n",
       " 'Count': 36,\n",
       " 'PM': 'Akshen'}"
      ]
     },
     "execution_count": 23,
     "metadata": {},
     "output_type": "execute_result"
    }
   ],
   "source": [
    "d.setdefault(\"Batch\", \"AUG23\")\n",
    "d #current value: Sep24, #default value: AUG23"
   ]
  },
  {
   "cell_type": "code",
   "execution_count": 24,
   "id": "c121112e",
   "metadata": {},
   "outputs": [
    {
     "data": {
      "text/plain": [
       "{'Batch': 'Sep24',\n",
       " 'Student': {'S1', 'S2', 'S3'},\n",
       " 'Started': True,\n",
       " 'Marks': {'ITP': [75, 23, 33], 'NPV': [34, 35, 36]},\n",
       " 'Location': 'MUM',\n",
       " 'Count': 36,\n",
       " 'PM': 'Akshen',\n",
       " 'CR': 'Maher'}"
      ]
     },
     "execution_count": 24,
     "metadata": {},
     "output_type": "execute_result"
    }
   ],
   "source": [
    "d.setdefault(\"CR\", \"Maher\")\n",
    "d #if not given, using setdefault we can add too!"
   ]
  },
  {
   "cell_type": "code",
   "execution_count": null,
   "id": "cca09bc3",
   "metadata": {},
   "outputs": [],
   "source": []
  },
  {
   "cell_type": "code",
   "execution_count": 25,
   "id": "9d7ac846",
   "metadata": {},
   "outputs": [],
   "source": [
    "# l) pop, popitem:"
   ]
  },
  {
   "cell_type": "code",
   "execution_count": 26,
   "id": "e8a272dc",
   "metadata": {},
   "outputs": [
    {
     "data": {
      "text/plain": [
       "'Akshen'"
      ]
     },
     "execution_count": 26,
     "metadata": {},
     "output_type": "execute_result"
    }
   ],
   "source": [
    "d.pop(\"PM\") #gives value of a specific key"
   ]
  },
  {
   "cell_type": "code",
   "execution_count": 27,
   "id": "05c9773f",
   "metadata": {},
   "outputs": [
    {
     "data": {
      "text/plain": [
       "('CR', 'Maher')"
      ]
     },
     "execution_count": 27,
     "metadata": {},
     "output_type": "execute_result"
    }
   ],
   "source": [
    "d.popitem() #gives both key and value of the last by default"
   ]
  },
  {
   "cell_type": "code",
   "execution_count": null,
   "id": "c374c9b2",
   "metadata": {},
   "outputs": [],
   "source": []
  },
  {
   "cell_type": "code",
   "execution_count": 28,
   "id": "8e5cc68a",
   "metadata": {},
   "outputs": [],
   "source": [
    "# m) fromkeys:\n",
    "# i) creates a new dictionary from the provided keys and sets a default value for all of them\n",
    "# ii) if no value is specified, it defaults to None"
   ]
  },
  {
   "cell_type": "code",
   "execution_count": 29,
   "id": "f3b55eb9",
   "metadata": {},
   "outputs": [
    {
     "data": {
      "text/plain": [
       "{'A': 20, 'B': 40, 'C': 30}"
      ]
     },
     "execution_count": 29,
     "metadata": {},
     "output_type": "execute_result"
    }
   ],
   "source": [
    "list1 = [[\"A\", 20], [\"B\", 40], [\"C\", 30]]\n",
    "dict(list1)"
   ]
  },
  {
   "cell_type": "code",
   "execution_count": 30,
   "id": "c3ef7776",
   "metadata": {},
   "outputs": [
    {
     "data": {
      "text/plain": [
       "{'S1': 0, 'S2': 0, 'S3': 0}"
      ]
     },
     "execution_count": 30,
     "metadata": {},
     "output_type": "execute_result"
    }
   ],
   "source": [
    "list1 = (\"S1\", \"S2\", \"S3\") \n",
    "dict.fromkeys(list1, 0) \n",
    "#takes the syntax of list1 & makes a new dictionary, giving value 0 to all the keys"
   ]
  },
  {
   "cell_type": "code",
   "execution_count": 31,
   "id": "b10e0857",
   "metadata": {},
   "outputs": [
    {
     "data": {
      "text/plain": [
       "{'A': 7,\n",
       " 'k': 7,\n",
       " 's': 7,\n",
       " 'h': 7,\n",
       " 'e': 7,\n",
       " 'n': 7,\n",
       " ' ': 7,\n",
       " 'D': 7,\n",
       " 'a': 7,\n",
       " 'm': 7,\n",
       " 'i': 7}"
      ]
     },
     "execution_count": 31,
     "metadata": {},
     "output_type": "execute_result"
    }
   ],
   "source": [
    "s=\"Akshen Dhami\"\n",
    "dict.fromkeys(s, 7)"
   ]
  },
  {
   "cell_type": "code",
   "execution_count": null,
   "id": "6f079c21",
   "metadata": {},
   "outputs": [],
   "source": []
  },
  {
   "cell_type": "code",
   "execution_count": 32,
   "id": "0ee4cf5f",
   "metadata": {},
   "outputs": [],
   "source": [
    "# n) merge using operations:"
   ]
  },
  {
   "cell_type": "code",
   "execution_count": 33,
   "id": "c5ec0a2e",
   "metadata": {},
   "outputs": [],
   "source": [
    "d1 = {\"A\" : 10, \"B\" : 20}\n",
    "d2 = {\"C\" : 200, \"D\" : 400}"
   ]
  },
  {
   "cell_type": "code",
   "execution_count": 34,
   "id": "98fe9871",
   "metadata": {},
   "outputs": [
    {
     "ename": "TypeError",
     "evalue": "unsupported operand type(s) for +: 'dict' and 'dict'",
     "output_type": "error",
     "traceback": [
      "\u001b[1;31m---------------------------------------------------------------------------\u001b[0m",
      "\u001b[1;31mTypeError\u001b[0m                                 Traceback (most recent call last)",
      "Cell \u001b[1;32mIn[34], line 1\u001b[0m\n\u001b[1;32m----> 1\u001b[0m d1 \u001b[38;5;241m+\u001b[39m d2\n",
      "\u001b[1;31mTypeError\u001b[0m: unsupported operand type(s) for +: 'dict' and 'dict'"
     ]
    }
   ],
   "source": [
    "d1 + d2           #❌"
   ]
  },
  {
   "cell_type": "code",
   "execution_count": 35,
   "id": "0965f2a9",
   "metadata": {},
   "outputs": [
    {
     "data": {
      "text/plain": [
       "{'A': 10, 'B': 20, 'C': 200, 'D': 400}"
      ]
     },
     "execution_count": 35,
     "metadata": {},
     "output_type": "execute_result"
    }
   ],
   "source": [
    "{**d1, **d2}       #✅"
   ]
  },
  {
   "cell_type": "code",
   "execution_count": null,
   "id": "2204ea30",
   "metadata": {},
   "outputs": [],
   "source": []
  },
  {
   "cell_type": "code",
   "execution_count": null,
   "id": "5bcc0eec",
   "metadata": {},
   "outputs": [],
   "source": []
  },
  {
   "cell_type": "code",
   "execution_count": null,
   "id": "76c9fea5",
   "metadata": {},
   "outputs": [],
   "source": []
  },
  {
   "cell_type": "code",
   "execution_count": null,
   "id": "e4751f78",
   "metadata": {},
   "outputs": [],
   "source": []
  },
  {
   "cell_type": "code",
   "execution_count": null,
   "id": "d19b4ea6",
   "metadata": {},
   "outputs": [],
   "source": []
  },
  {
   "cell_type": "code",
   "execution_count": null,
   "id": "0375a3f2",
   "metadata": {},
   "outputs": [],
   "source": []
  },
  {
   "cell_type": "code",
   "execution_count": null,
   "id": "103b50f1",
   "metadata": {},
   "outputs": [],
   "source": []
  },
  {
   "cell_type": "code",
   "execution_count": null,
   "id": "4ce3385d",
   "metadata": {},
   "outputs": [],
   "source": []
  },
  {
   "cell_type": "code",
   "execution_count": null,
   "id": "f36f7cf6",
   "metadata": {},
   "outputs": [],
   "source": []
  },
  {
   "cell_type": "code",
   "execution_count": null,
   "id": "320d1a44",
   "metadata": {},
   "outputs": [],
   "source": []
  },
  {
   "cell_type": "code",
   "execution_count": null,
   "id": "9b388469",
   "metadata": {},
   "outputs": [],
   "source": []
  },
  {
   "cell_type": "code",
   "execution_count": null,
   "id": "2c572305",
   "metadata": {},
   "outputs": [],
   "source": []
  },
  {
   "cell_type": "code",
   "execution_count": null,
   "id": "e6076674",
   "metadata": {},
   "outputs": [],
   "source": []
  },
  {
   "cell_type": "code",
   "execution_count": null,
   "id": "2e09927d",
   "metadata": {},
   "outputs": [],
   "source": []
  }
 ],
 "metadata": {
  "kernelspec": {
   "display_name": "Python 3 (ipykernel)",
   "language": "python",
   "name": "python3"
  },
  "language_info": {
   "codemirror_mode": {
    "name": "ipython",
    "version": 3
   },
   "file_extension": ".py",
   "mimetype": "text/x-python",
   "name": "python",
   "nbconvert_exporter": "python",
   "pygments_lexer": "ipython3",
   "version": "3.11.4"
  }
 },
 "nbformat": 4,
 "nbformat_minor": 5
}
