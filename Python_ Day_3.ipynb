{
 "cells": [
  {
   "cell_type": "code",
   "execution_count": 1,
   "id": "e61cb314",
   "metadata": {},
   "outputs": [],
   "source": [
    "# 1) Operators:"
   ]
  },
  {
   "cell_type": "code",
   "execution_count": 2,
   "id": "21236c57",
   "metadata": {},
   "outputs": [],
   "source": [
    "# a) Arithmetic: "
   ]
  },
  {
   "cell_type": "code",
   "execution_count": 3,
   "id": "073b1a29",
   "metadata": {},
   "outputs": [
    {
     "name": "stdout",
     "output_type": "stream",
     "text": [
      "30\n",
      "10\n",
      "200\n",
      "100000000000000000000\n",
      "0.5\n",
      "0\n",
      "10\n",
      "-18.415106807538887\n"
     ]
    }
   ],
   "source": [
    "x = 10\n",
    "y = 20\n",
    "\n",
    "a = x+y \n",
    "b = y-x \n",
    "c = x*y \n",
    "d = x**y\n",
    "e = x/y #quotient\n",
    "f = x//y #quotient's first value\n",
    "g = x%y #remainder\n",
    "h = x**(1/5)-y\n",
    "print(a,b,c,d,e,f,g,h, sep=\"\\n\")"
   ]
  },
  {
   "cell_type": "code",
   "execution_count": null,
   "id": "044cb666",
   "metadata": {},
   "outputs": [],
   "source": []
  },
  {
   "cell_type": "code",
   "execution_count": 4,
   "id": "e9a0f642",
   "metadata": {},
   "outputs": [],
   "source": [
    "# b) \n",
    "# BODMAS: (Bracket, Order, Division, Multiplication, Add, Subtract)\n",
    "# PEDMAS: (Parentheses, Exponents, Divide, Multiply, Add, Substract) \n",
    "\n",
    "# Solve: () -> power (square, cube) -> divide, multiply, add, aubstract: "
   ]
  },
  {
   "cell_type": "code",
   "execution_count": 5,
   "id": "d7f63316",
   "metadata": {},
   "outputs": [
    {
     "data": {
      "text/plain": [
       "2406.5"
      ]
     },
     "execution_count": 5,
     "metadata": {},
     "output_type": "execute_result"
    }
   ],
   "source": [
    "10+1/2-(5-7**4)\n",
    "#first solve: 7**4 that's 2401\n",
    "#secondly, bracket: 5-2401 = (-2396)\n",
    "#thirdly, -(-2396): +2396\n",
    "#next: 10+1/2\n",
    "#finally, 10.5+2396=2406.5"
   ]
  },
  {
   "cell_type": "code",
   "execution_count": null,
   "id": "1e89e320",
   "metadata": {},
   "outputs": [],
   "source": []
  },
  {
   "cell_type": "code",
   "execution_count": 6,
   "id": "e84583e3",
   "metadata": {},
   "outputs": [],
   "source": [
    "# c) on str:"
   ]
  },
  {
   "cell_type": "code",
   "execution_count": 7,
   "id": "ec5562ad",
   "metadata": {},
   "outputs": [
    {
     "data": {
      "text/plain": [
       "'Hello Python'"
      ]
     },
     "execution_count": 7,
     "metadata": {},
     "output_type": "execute_result"
    }
   ],
   "source": [
    "s1=\"Hello \"\n",
    "s2=\"Python\"\n",
    "\n",
    "s=s1+s2\n",
    "s"
   ]
  },
  {
   "cell_type": "code",
   "execution_count": 8,
   "id": "a67a877c",
   "metadata": {},
   "outputs": [
    {
     "data": {
      "text/plain": [
       "'Hello PythonHello Python'"
      ]
     },
     "execution_count": 8,
     "metadata": {},
     "output_type": "execute_result"
    }
   ],
   "source": [
    "s*2\n",
    "# *: self replication\n",
    "# +: concatenation"
   ]
  },
  {
   "cell_type": "code",
   "execution_count": 9,
   "id": "0b7475c8",
   "metadata": {},
   "outputs": [
    {
     "ename": "TypeError",
     "evalue": "unsupported operand type(s) for +: 'int' and 'str'",
     "output_type": "error",
     "traceback": [
      "\u001b[1;31m---------------------------------------------------------------------------\u001b[0m",
      "\u001b[1;31mTypeError\u001b[0m                                 Traceback (most recent call last)",
      "Cell \u001b[1;32mIn[9], line 1\u001b[0m\n\u001b[1;32m----> 1\u001b[0m \u001b[38;5;241m10\u001b[39m\u001b[38;5;241m+\u001b[39ms\n",
      "\u001b[1;31mTypeError\u001b[0m: unsupported operand type(s) for +: 'int' and 'str'"
     ]
    }
   ],
   "source": [
    "10+s"
   ]
  },
  {
   "cell_type": "code",
   "execution_count": 10,
   "id": "0e6c5eb6",
   "metadata": {},
   "outputs": [
    {
     "ename": "TypeError",
     "evalue": "unsupported operand type(s) for -: 'str' and 'str'",
     "output_type": "error",
     "traceback": [
      "\u001b[1;31m---------------------------------------------------------------------------\u001b[0m",
      "\u001b[1;31mTypeError\u001b[0m                                 Traceback (most recent call last)",
      "Cell \u001b[1;32mIn[10], line 1\u001b[0m\n\u001b[1;32m----> 1\u001b[0m s1\u001b[38;5;241m-\u001b[39ms2\n",
      "\u001b[1;31mTypeError\u001b[0m: unsupported operand type(s) for -: 'str' and 'str'"
     ]
    }
   ],
   "source": [
    "s1-s2"
   ]
  },
  {
   "cell_type": "code",
   "execution_count": 11,
   "id": "55ad04c6",
   "metadata": {},
   "outputs": [
    {
     "data": {
      "text/plain": [
       "1"
      ]
     },
     "execution_count": 11,
     "metadata": {},
     "output_type": "execute_result"
    }
   ],
   "source": [
    "True+False"
   ]
  },
  {
   "cell_type": "code",
   "execution_count": null,
   "id": "004f370c",
   "metadata": {},
   "outputs": [],
   "source": []
  },
  {
   "cell_type": "code",
   "execution_count": 12,
   "id": "b2ad1deb",
   "metadata": {},
   "outputs": [],
   "source": [
    "# d) Assignment operator (=, +=, -=, *=, /=, //=, %=, **=):"
   ]
  },
  {
   "cell_type": "code",
   "execution_count": 13,
   "id": "61f4f9b4",
   "metadata": {},
   "outputs": [
    {
     "name": "stdout",
     "output_type": "stream",
     "text": [
      "20\n"
     ]
    }
   ],
   "source": [
    "A=20\n",
    "print(A)"
   ]
  },
  {
   "cell_type": "code",
   "execution_count": 14,
   "id": "2d27f9db",
   "metadata": {},
   "outputs": [
    {
     "data": {
      "text/plain": [
       "30"
      ]
     },
     "execution_count": 14,
     "metadata": {},
     "output_type": "execute_result"
    }
   ],
   "source": [
    "A += 10 #same as A = A + 10\n",
    "A\n",
    "#similarly, do for the rest!"
   ]
  },
  {
   "cell_type": "code",
   "execution_count": 15,
   "id": "e3d15b03",
   "metadata": {},
   "outputs": [
    {
     "data": {
      "text/plain": [
       "'Hello PythonHello Python'"
      ]
     },
     "execution_count": 15,
     "metadata": {},
     "output_type": "execute_result"
    }
   ],
   "source": [
    "s*=2\n",
    "s"
   ]
  },
  {
   "cell_type": "code",
   "execution_count": null,
   "id": "466fc8a5",
   "metadata": {},
   "outputs": [],
   "source": []
  },
  {
   "cell_type": "code",
   "execution_count": 16,
   "id": "4b2b9f47",
   "metadata": {},
   "outputs": [],
   "source": [
    "# e) Relational Operator (>, <, >=, <=, ==, !=):"
   ]
  },
  {
   "cell_type": "code",
   "execution_count": 17,
   "id": "b0dfa226",
   "metadata": {},
   "outputs": [],
   "source": [
    "A = 25\n",
    "B = 50"
   ]
  },
  {
   "cell_type": "code",
   "execution_count": 18,
   "id": "4dde0538",
   "metadata": {},
   "outputs": [
    {
     "name": "stdout",
     "output_type": "stream",
     "text": [
      "False\n",
      "True\n",
      "False\n",
      "True\n",
      "False\n",
      "True\n"
     ]
    }
   ],
   "source": [
    "print(A>B)\n",
    "print(A<B)\n",
    "print(A>=B)\n",
    "print(A<=B)\n",
    "print(A==B)\n",
    "print(A!=B)"
   ]
  },
  {
   "cell_type": "code",
   "execution_count": 19,
   "id": "fe205d6d",
   "metadata": {
    "scrolled": true
   },
   "outputs": [
    {
     "data": {
      "text/plain": [
       "False"
      ]
     },
     "execution_count": 19,
     "metadata": {},
     "output_type": "execute_result"
    }
   ],
   "source": [
    "True < False"
   ]
  },
  {
   "cell_type": "code",
   "execution_count": 20,
   "id": "a60a8957",
   "metadata": {},
   "outputs": [
    {
     "ename": "TypeError",
     "evalue": "'>' not supported between instances of 'complex' and 'int'",
     "output_type": "error",
     "traceback": [
      "\u001b[1;31m---------------------------------------------------------------------------\u001b[0m",
      "\u001b[1;31mTypeError\u001b[0m                                 Traceback (most recent call last)",
      "Cell \u001b[1;32mIn[20], line 1\u001b[0m\n\u001b[1;32m----> 1\u001b[0m (\u001b[38;5;241m10\u001b[39m\u001b[38;5;241m+\u001b[39m\u001b[38;5;241m5\u001b[39mj) \u001b[38;5;241m>\u001b[39m \u001b[38;5;241m45\u001b[39m\n",
      "\u001b[1;31mTypeError\u001b[0m: '>' not supported between instances of 'complex' and 'int'"
     ]
    }
   ],
   "source": [
    "(10+5j) > 45"
   ]
  },
  {
   "cell_type": "code",
   "execution_count": 21,
   "id": "7ad9b3f0",
   "metadata": {},
   "outputs": [
    {
     "data": {
      "text/plain": [
       "False"
      ]
     },
     "execution_count": 21,
     "metadata": {},
     "output_type": "execute_result"
    }
   ],
   "source": [
    "s = 'pYthon'\n",
    "S = 'pytHon'\n",
    "\n",
    "s>=S\n",
    "\n",
    "# WHY? --> Due to \"ASCII\", every charcter has an assigned value"
   ]
  },
  {
   "cell_type": "code",
   "execution_count": 22,
   "id": "fdecd037",
   "metadata": {},
   "outputs": [
    {
     "name": "stdout",
     "output_type": "stream",
     "text": [
      "121\n",
      "89\n"
     ]
    }
   ],
   "source": [
    "print(ord(\"y\"))\n",
    "print(ord(\"Y\"))"
   ]
  },
  {
   "cell_type": "code",
   "execution_count": 23,
   "id": "748ab2c3",
   "metadata": {},
   "outputs": [
    {
     "name": "stdout",
     "output_type": "stream",
     "text": [
      "y\n",
      "Y\n"
     ]
    }
   ],
   "source": [
    "print(chr(121))\n",
    "print(chr(89))"
   ]
  },
  {
   "cell_type": "code",
   "execution_count": 24,
   "id": "eb2aa717",
   "metadata": {},
   "outputs": [],
   "source": [
    "# f) Relational operators with and, or, not or"
   ]
  },
  {
   "cell_type": "code",
   "execution_count": 25,
   "id": "3fed7826",
   "metadata": {},
   "outputs": [],
   "source": [
    "def biodata():\n",
    "    name = input(\"Enter your name: \")\n",
    "    age = float(input(\"Enter your age: \"))\n",
    "    \n",
    "    if name == \"Akshen\" and age == 24:\n",
    "        print(\"Myself \", name, \" aged:\", age)\n",
    "    else:\n",
    "        print(\"False\")\n",
    "                \n",
    "    return name, age"
   ]
  },
  {
   "cell_type": "code",
   "execution_count": 26,
   "id": "9337c1c3",
   "metadata": {},
   "outputs": [
    {
     "name": "stdout",
     "output_type": "stream",
     "text": [
      "Enter your name: Akshen\n",
      "Enter your age: 16\n",
      "False\n"
     ]
    },
    {
     "data": {
      "text/plain": [
       "('Akshen', 16.0)"
      ]
     },
     "execution_count": 26,
     "metadata": {},
     "output_type": "execute_result"
    }
   ],
   "source": [
    "biodata()"
   ]
  },
  {
   "cell_type": "code",
   "execution_count": 27,
   "id": "fa716028",
   "metadata": {},
   "outputs": [],
   "source": [
    "def biodata1():\n",
    "    name = input(\"Enter your name: \")\n",
    "    age = float(input(\"Enter your age: \"))\n",
    "    \n",
    "    if name == \"Akshen\" or age == 24:\n",
    "        print(\"Myself \", name, \" aged:\", age)\n",
    "    else:\n",
    "        print(\"False\")\n",
    "                \n",
    "    return name, age"
   ]
  },
  {
   "cell_type": "code",
   "execution_count": 28,
   "id": "f08366d0",
   "metadata": {},
   "outputs": [
    {
     "name": "stdout",
     "output_type": "stream",
     "text": [
      "Enter your name: Akshen\n",
      "Enter your age: 24\n",
      "Myself  Akshen  aged: 24.0\n"
     ]
    },
    {
     "data": {
      "text/plain": [
       "('Akshen', 24.0)"
      ]
     },
     "execution_count": 28,
     "metadata": {},
     "output_type": "execute_result"
    }
   ],
   "source": [
    "biodata1()"
   ]
  },
  {
   "cell_type": "code",
   "execution_count": 29,
   "id": "bc7c9855",
   "metadata": {},
   "outputs": [],
   "source": [
    "def biodata2():\n",
    "    name = input(\"Enter your name: \")\n",
    "    age = float(input(\"Enter your age: \"))\n",
    "    \n",
    "    if name != \"Akshen\" or age <= 24:\n",
    "        print(\"Myself \", name, \" aged:\", age)\n",
    "    else:\n",
    "        print(\"False\")\n",
    "                \n",
    "    return name, age"
   ]
  },
  {
   "cell_type": "code",
   "execution_count": 30,
   "id": "ab4b8c6d",
   "metadata": {},
   "outputs": [
    {
     "name": "stdout",
     "output_type": "stream",
     "text": [
      "Enter your name: Akshen\n",
      "Enter your age: 7\n",
      "Myself  Akshen  aged: 7.0\n"
     ]
    },
    {
     "data": {
      "text/plain": [
       "('Akshen', 7.0)"
      ]
     },
     "execution_count": 30,
     "metadata": {},
     "output_type": "execute_result"
    }
   ],
   "source": [
    "biodata2()"
   ]
  },
  {
   "cell_type": "code",
   "execution_count": 31,
   "id": "c1ee4d30",
   "metadata": {},
   "outputs": [
    {
     "name": "stdout",
     "output_type": "stream",
     "text": [
      "Enter your age - 45\n",
      "Enter your country - India\n"
     ]
    },
    {
     "data": {
      "text/plain": [
       "False"
      ]
     },
     "execution_count": 31,
     "metadata": {},
     "output_type": "execute_result"
    }
   ],
   "source": [
    "age = float( input(\"Enter your age - \")  )\n",
    "c = input(\"Enter your country - \")\n",
    "not (  (age >= 18)  or  (c==\"india\")  )"
   ]
  },
  {
   "cell_type": "code",
   "execution_count": null,
   "id": "0a33f574",
   "metadata": {},
   "outputs": [],
   "source": []
  },
  {
   "cell_type": "code",
   "execution_count": 32,
   "id": "629b9ed8",
   "metadata": {},
   "outputs": [
    {
     "data": {
      "text/plain": [
       "'pYthon'"
      ]
     },
     "execution_count": 32,
     "metadata": {},
     "output_type": "execute_result"
    }
   ],
   "source": [
    "# g) Membership operator - in, not in\n",
    "# collection types - str, list, tuple, set, dict\n",
    "s"
   ]
  },
  {
   "cell_type": "code",
   "execution_count": 33,
   "id": "973824dc",
   "metadata": {
    "scrolled": true
   },
   "outputs": [
    {
     "data": {
      "text/plain": [
       "True"
      ]
     },
     "execution_count": 33,
     "metadata": {},
     "output_type": "execute_result"
    }
   ],
   "source": [
    "#true or false (present, not present)\n",
    "\"p\" in s"
   ]
  },
  {
   "cell_type": "code",
   "execution_count": 34,
   "id": "fb72ef8e",
   "metadata": {},
   "outputs": [
    {
     "data": {
      "text/plain": [
       "False"
      ]
     },
     "execution_count": 34,
     "metadata": {},
     "output_type": "execute_result"
    }
   ],
   "source": [
    "\"pn\" in s"
   ]
  },
  {
   "cell_type": "code",
   "execution_count": 35,
   "id": "6b607bea",
   "metadata": {},
   "outputs": [
    {
     "data": {
      "text/plain": [
       "False"
      ]
     },
     "execution_count": 35,
     "metadata": {},
     "output_type": "execute_result"
    }
   ],
   "source": [
    "\"Yt\" not in s"
   ]
  },
  {
   "cell_type": "code",
   "execution_count": null,
   "id": "f820401d",
   "metadata": {},
   "outputs": [],
   "source": []
  },
  {
   "cell_type": "code",
   "execution_count": 36,
   "id": "208f3a3a",
   "metadata": {},
   "outputs": [],
   "source": [
    "# h) Bitwise operator (&, |, ^, ~, <<, >>):"
   ]
  },
  {
   "cell_type": "code",
   "execution_count": 37,
   "id": "983b39db",
   "metadata": {},
   "outputs": [
    {
     "name": "stdout",
     "output_type": "stream",
     "text": [
      "0b110\n",
      "0b11\n",
      "0b10\n",
      "0b111\n",
      "0b101\n",
      "-0b111\n",
      "0b1010\n"
     ]
    }
   ],
   "source": [
    "print(bin(6))\n",
    "print(bin(3))\n",
    "print(bin(2))\n",
    "print(bin(7))\n",
    "print(bin(5))\n",
    "print(bin(-7))\n",
    "print(bin(10))"
   ]
  },
  {
   "cell_type": "code",
   "execution_count": 38,
   "id": "049ad727",
   "metadata": {},
   "outputs": [
    {
     "name": "stdout",
     "output_type": "stream",
     "text": [
      "2\n"
     ]
    }
   ],
   "source": [
    "# & (and):\n",
    "a = 6  # 110 in binary\n",
    "b = 3  # 011 in binary\n",
    "\n",
    "result = a & b  # 110 & 011 = 010 (2 in decimal)\n",
    "print(result)  # Output: 2"
   ]
  },
  {
   "cell_type": "code",
   "execution_count": 39,
   "id": "86f536c6",
   "metadata": {},
   "outputs": [
    {
     "name": "stdout",
     "output_type": "stream",
     "text": [
      "7\n"
     ]
    }
   ],
   "source": [
    "# | (or):\n",
    "a = 6  # 110 in binary\n",
    "b = 3  # 011 in binary\n",
    "\n",
    "result = a | b  # 110 | 011 = 111 (7 in decimal)\n",
    "print(result)  # Output: 7"
   ]
  },
  {
   "cell_type": "code",
   "execution_count": 40,
   "id": "9089bb60",
   "metadata": {},
   "outputs": [
    {
     "name": "stdout",
     "output_type": "stream",
     "text": [
      "5\n"
     ]
    }
   ],
   "source": [
    "# ^ (xor):\n",
    "a = 6  # 110 in binary\n",
    "b = 3  # 011 in binary\n",
    "\n",
    "result = a ^ b  # 110 ^ 011 = 101 (5 in decimal)\n",
    "print(result)  # Output: 5"
   ]
  },
  {
   "cell_type": "code",
   "execution_count": 41,
   "id": "a0d39999",
   "metadata": {},
   "outputs": [
    {
     "name": "stdout",
     "output_type": "stream",
     "text": [
      "-7\n"
     ]
    }
   ],
   "source": [
    "# ~ (not):\n",
    "a = 6  # 110 in binary\n",
    "\n",
    "result = ~a  # ~110 = 001...001001 (inverted to -7 in decimal due to two's complement)\n",
    "print(result)  # Output: -7"
   ]
  },
  {
   "cell_type": "code",
   "execution_count": 42,
   "id": "efae79a3",
   "metadata": {},
   "outputs": [
    {
     "name": "stdout",
     "output_type": "stream",
     "text": [
      "10\n"
     ]
    }
   ],
   "source": [
    "# << (left shift: adds):\n",
    "a = 5  # 101 in binary\n",
    "\n",
    "result = a << 1  # 101 << 1 = 1010 (10 in decimal)\n",
    "print(result)  # Output: 10"
   ]
  },
  {
   "cell_type": "code",
   "execution_count": 43,
   "id": "f096a4c1",
   "metadata": {},
   "outputs": [
    {
     "name": "stdout",
     "output_type": "stream",
     "text": [
      "2\n"
     ]
    }
   ],
   "source": [
    "# >> (right shift: removes):\n",
    "a = 5  # 101 in binary\n",
    "\n",
    "result = a >> 1  # 101 >> 1 = 10 (2 in decimal)\n",
    "print(result)  # Output: 2"
   ]
  },
  {
   "cell_type": "code",
   "execution_count": null,
   "id": "02a253d0",
   "metadata": {},
   "outputs": [],
   "source": []
  }
 ],
 "metadata": {
  "kernelspec": {
   "display_name": "Python 3 (ipykernel)",
   "language": "python",
   "name": "python3"
  },
  "language_info": {
   "codemirror_mode": {
    "name": "ipython",
    "version": 3
   },
   "file_extension": ".py",
   "mimetype": "text/x-python",
   "name": "python",
   "nbconvert_exporter": "python",
   "pygments_lexer": "ipython3",
   "version": "3.11.4"
  }
 },
 "nbformat": 4,
 "nbformat_minor": 5
}
